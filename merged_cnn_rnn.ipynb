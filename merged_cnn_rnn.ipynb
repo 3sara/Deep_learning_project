{
 "cells": [
  {
   "cell_type": "code",
   "execution_count": 1,
   "metadata": {},
   "outputs": [],
   "source": [
    "#!module load cuda"
   ]
  },
  {
   "cell_type": "code",
   "execution_count": 2,
   "metadata": {},
   "outputs": [],
   "source": [
    "import torch\n",
    "from torch.utils.data import Dataset, DataLoader\n",
    "from torchvision.io import read_image\n",
    "import torchvision.transforms as T\n",
    "\n",
    "import torch.nn as nn\n",
    "import torch.nn.functional as F\n",
    "\n",
    "from sklearn.metrics import r2_score\n",
    "import matplotlib.pyplot as plt\n",
    "import numpy as np\n",
    "import pandas as pd\n",
    "import os\n",
    "\n",
    "from jupyterplot import ProgressPlot\n",
    "from tqdm import tqdm, trange\n",
    "\n",
    "from datetime import datetime, timedelta"
   ]
  },
  {
   "cell_type": "code",
   "execution_count": 21,
   "metadata": {
    "id": "aa9ssRQXOF9F"
   },
   "outputs": [],
   "source": [
    "class WeatherDataset(Dataset):\n",
    "    def __init__(self, weather_data = 'data/big_arpafvg.csv', img_dir = 'data/images'):\n",
    "        initial_data=pd.read_csv(weather_data)\n",
    "        initial_data = initial_data.drop(columns=['Temp. min gradi C','Temp. med gradi C','Temp. max gradi C','Vento med km/h','Dir. V. max gradi N'])\n",
    "        #normalize the data\n",
    "        for col in initial_data.columns:\n",
    "            if col != 'giorno' and col != 'mese' and col != 'anno':\n",
    "                initial_data[col] = (initial_data[col] - initial_data[col].mean()) / initial_data[col].std()\n",
    "        self.weather_data = initial_data\n",
    "        self.img_dir = img_dir\n",
    "        self.seq_length = 7\n",
    "        self.target_column_index = 3\n",
    "        self.date_generated = []\n",
    "\n",
    "    def __getitem__(self, date):\n",
    "        #get day month year from date in format dd-mm-yyyy\n",
    "        day, month, year = date.split('_')\n",
    "        #get from weather data the row with the same date\n",
    "        weather_data = self.weather_data[(self.weather_data['giorno'] == int(day)) & (self.weather_data['mese'] == int(month)) & (self.weather_data['anno'] == int(year))]\n",
    "        weather_data = torch.tensor(weather_data.values[0])\n",
    "\n",
    "        image = os.path.join(self.img_dir, str(date) + '.jpg')  \n",
    "        image = read_image(image)   \n",
    "        return [image, weather_data]\n",
    "    \n",
    "    def __len__(self):\n",
    "        return len(self.weather_data)\n",
    "    '''\n",
    "    def create_sequences(self, data):\n",
    "        xs, ys, imgs = [], [], []\n",
    "        for i in range(len(data) - self.seq_length-1):\n",
    "            x = data[i:i+self.seq_length]\n",
    "            y = data[i+self.seq_length+1, self.target_column_index]\n",
    "            img_path = os.path.join(self.img_dir,str(x[2]) + '_' + str(x[1]) + '_'+ (x[0]) + '.jpg')\n",
    "            img= read_image(img_path)\n",
    "            xs.append(x)\n",
    "            ys.append(y)\n",
    "            imgs.append(img)\n",
    "        return np.array(xs), np.array(ys)\n",
    "    '''\n",
    "\n",
    "    def date_generation(self, start_date, end_date):\n",
    "        start_date = datetime.strptime(start_date, \"%d_%m_%Y\")\n",
    "        end_date = datetime.strptime(end_date, \"%d_%m_%Y\")\n",
    "        date_generated = [start_date + timedelta(days=x) for x in range(0, (end_date-start_date).days)]\n",
    "        #transform the list of datetime objects in a list of strings in format dd-mm-yyyy\n",
    "        date_generated = [date.strftime(\"%d_%m_%Y\") for date in date_generated]\n",
    "        self.date_generated=date_generated\n",
    "        return date_generated\n",
    "    \n",
    "    def create_sequences(self, len_seq):\n",
    "        xs, ys, imgs = [], [], []\n",
    "        for date in self.date_generated[:-len_seq]:\n",
    "            end_of_week = date.split('_')\n",
    "            end_of_week = datetime(int(end_of_week[2]), int(end_of_week[1]), int(end_of_week[0])) + timedelta(days = len_seq)\n",
    "            end_of_week = end_of_week.strftime(\"%d_%m_%Y\")\n",
    "\n",
    "\n",
    "            week=self.date_generation(date, end_of_week)\n",
    "            img, x =[], []\n",
    "            for day in week:\n",
    "                a , b = self.__getitem__(day)\n",
    "                img.append(a)\n",
    "                x.append(b)\n",
    "            imgs.append(img)\n",
    "            xs.append(x)\n",
    "\n",
    "            next = end_of_week.split('_')\n",
    "            next = datetime(int(next[2]), int(next[1]), int(next[0])) + timedelta(days = 1)\n",
    "            next = next.strftime(\"%d_%m_%Y\")\n",
    "            ys.append(self.__getitem__(next)[1][self.target_column_index])\n",
    "        return np.array(imgs), np.array(xs), np.array(ys)"
   ]
  },
  {
   "cell_type": "code",
   "execution_count": 22,
   "metadata": {
    "id": "ujeYNSStERGn"
   },
   "outputs": [],
   "source": [
    "dataset = WeatherDataset()"
   ]
  },
  {
   "cell_type": "code",
   "execution_count": 23,
   "metadata": {},
   "outputs": [],
   "source": [
    "#generate a list of strings dd-mm-yyyy from 01-06-2023 to 15-6-2024\n",
    "dataset.date_generation(\"01_06_2024\", \"15_06_2024\")\n",
    "imgs, xs, ys = dataset.create_sequences(7)  \n"
   ]
  },
  {
   "cell_type": "code",
   "execution_count": 24,
   "metadata": {},
   "outputs": [],
   "source": [
    "train_len = int(0.8 * len(dataset.date_generated))\n",
    "test_len = len(dataset.date_generated) - train_len\n",
    "#split the dataset: date_trainset contains the first 80% of the dates, date_testset contains the remaining 20%\n",
    "xs_train=xs[:train_len]\n",
    "xs_test=xs[train_len:]\n",
    "ys_train=ys[:train_len]\n",
    "ys_test=ys[train_len:]\n",
    "imgs_train=imgs[:train_len]\n",
    "imgs_test=imgs[train_len:]"
   ]
  },
  {
   "cell_type": "code",
   "execution_count": 25,
   "metadata": {},
   "outputs": [
    {
     "name": "stdout",
     "output_type": "stream",
     "text": [
      "2\n"
     ]
    }
   ],
   "source": [
    "\n",
    "\n",
    "#convert a list of tensor into a tensor\n",
    "xs_train = torch.from_numpy(xs_train).float()\n",
    "xs_test = torch.from_numpy(xs_test).float()\n",
    "imgs_train = torch.from_numpy(imgs_train).float()\n",
    "imgs_test = torch.from_numpy(imgs_test).float()\n",
    "ys_train = torch.from_numpy(ys_train).float()\n",
    "ys_test = torch.from_numpy(ys_test).float()\n",
    "\n",
    "\n",
    "train_dataset = torch.utils.data.TensorDataset(imgs_train, xs_train, ys_train)\n",
    "test_dataset = torch.utils.data.TensorDataset(imgs_test, xs_test, ys_test)\n",
    "\n",
    "train_loader = torch.utils.data.DataLoader(train_dataset, batch_size = 1, shuffle = True)\n",
    "test_loader = torch.utils.data.DataLoader(test_dataset, batch_size = 1, shuffle = True)\n",
    "\n",
    "print(len(xs_test))\n",
    "\n"
   ]
  },
  {
   "cell_type": "code",
   "execution_count": 57,
   "metadata": {
    "id": "byxTeA5rUiuG"
   },
   "outputs": [],
   "source": [
    "class DeepWeather(nn.Module):\n",
    "    def __init__(self):\n",
    "        super(DeepWeather, self).__init__()\n",
    "\n",
    "        self.conv1 = nn.Conv3d(in_channels = 7, out_channels = 8, kernel_size = (1, 3, 3), stride = 1)\n",
    "        self.pool = nn.MaxPool3d(kernel_size=(1,2,2), padding=(0,1,1))\n",
    "        self.dropout = nn.Dropout(p = 0.3)\n",
    "        self.bn1 = nn.BatchNorm3d(8)\n",
    "        self.conv2 = nn.Conv3d(in_channels = 8, out_channels = 16, kernel_size = (1, 3, 3), stride = 1)\n",
    "        self.bn2 = nn.BatchNorm3d(16)\n",
    "        self.conv3 = nn.Conv3d(in_channels = 16, out_channels = 32, kernel_size = (1, 3, 3), stride = 1)\n",
    "        self.bn3 = nn.BatchNorm3d(32)\n",
    "        self.conv4 = nn.Conv3d(in_channels = 32, out_channels = 64, kernel_size = (1, 3, 3), stride = 1)\n",
    "        self.bn4 = nn.BatchNorm3d(64)\n",
    "        self.conv5 = nn.Conv3d(in_channels = 64, out_channels = 128, kernel_size = (1, 3, 3), stride = 1)\n",
    "        self.bn5 = nn.BatchNorm3d(128)\n",
    "        self.conv6 = nn.Conv3d(in_channels = 128, out_channels = 7, kernel_size = (1, 3, 3), stride = 1)\n",
    "        self.bn6 = nn.BatchNorm3d(7)\n",
    "\n",
    "        \n",
    "        self.input_size = 10\n",
    "        self.hidden_size = 16\n",
    "        self.num_layers = 2\n",
    "        self.output_size = 16\n",
    "        self.rnn = nn.RNN(self.input_size, self.hidden_size, self.num_layers, batch_first=True)\n",
    "        self.fc = nn.Linear(1360, 1)\n",
    "\n",
    "    def forward(self, x1, x2):   \n",
    "        '''\n",
    "        print(f'shape of x1: {x1.shape}')\n",
    "        print(f'shape of x2: {x2.shape}') \n",
    "        step=self.conv1(x1)\n",
    "        print(f'step 1 done: {step.shape}') \n",
    "        step=F.leaky_relu(step)\n",
    "        print(f'step 2 done: {step.shape}')\n",
    "        step=self.pool(step)\n",
    "        print(f'step 3 done: {step.shape}')\n",
    "        step=self.dropout(step)\n",
    "        print(f'step 4 done: {step.shape}')\n",
    "        step=self.bn1(step)\n",
    "        print(f'step 5 done: {step.shape}')\n",
    "        step=self.conv2(step)\n",
    "        print(f'step 6 done. {step.shape}')\n",
    "        step=F.leaky_relu(step)\n",
    "        print(f'step 7 done. {step.shape}')\n",
    "        step=self.pool(step)\n",
    "        print(f'step 8 done. {step.shape}')\n",
    "        step=self.dropout(step)\n",
    "        print(f'step 9 done. {step.shape}')\n",
    "        step=self.bn2(step)\n",
    "        print(f'step 10 done. {step.shape}')\n",
    "        step=self.conv3(step)\n",
    "        print(f'step 11 done. {step.shape}')\n",
    "        step=F.leaky_relu(step)\n",
    "        print(f'step 12 done. {step.shape}')\n",
    "        step=self.pool(step)\n",
    "        print(f'step 13 done. {step.shape}')\n",
    "        step=self.dropout(step)\n",
    "        print(f'step 14 done. {step.shape}')\n",
    "        step=self.bn3(step)\n",
    "        print(f'step 15 done. {step.shape}')\n",
    "        step=self.conv4(step)\n",
    "        print(f'step 16 done. {step.shape}')\n",
    "        step=F.leaky_relu(step)\n",
    "        print(f'step 17 done. {step.shape}')\n",
    "        step=self.pool(step)\n",
    "        print(f'step 18 done. {step.shape}')\n",
    "        step=self.dropout(step)\n",
    "        print(f'step 19 done. {step.shape}')\n",
    "        step=self.bn4(step)\n",
    "        print(f'step 20 done. {step.shape}')\n",
    "        step=self.conv5(step)\n",
    "        print(f'step 21 done. {step.shape}')\n",
    "        step=F.leaky_relu(step)\n",
    "        print(f'step 22 done. {step.shape}')\n",
    "        step=self.pool(step)\n",
    "        print(f'step 23 done. {step.shape}')\n",
    "        step=self.dropout(step)\n",
    "        print(f'step 24 done. {step.shape}')\n",
    "        step=self.bn5(step)\n",
    "        print(f'step 25 done. {step.shape}')\n",
    "        step=self.conv6(step)\n",
    "        print(f'step 26 done. {step.shape}')\n",
    "        step=F.leaky_relu(step)\n",
    "        print(f'step 27 done. {step.shape}')\n",
    "        step=self.pool(step)\n",
    "        print(f'step 28 done. {step.shape}')\n",
    "        step=self.dropout(step)\n",
    "        print(f'step 29 done. {step.shape}')\n",
    "        step=self.bn6(step)\n",
    "        print(f'step 30 done. {step.shape}')\n",
    "        '''\n",
    "        \n",
    "        \n",
    "        x1 = self.bn1(self.dropout(self.pool(F.leaky_relu(self.conv1(x1)))))\n",
    "\n",
    "        x1 = self.bn2(self.dropout(self.pool(F.leaky_relu(self.conv2(x1)))))\n",
    "        x1 = self.bn3(self.dropout(self.pool(F.leaky_relu(self.conv3(x1)))))\n",
    "        x1 = self.bn4(self.dropout(self.pool(F.leaky_relu(self.conv4(x1)))))\n",
    "        x1 = self.bn5(self.dropout(self.pool(F.leaky_relu(self.conv5(x1)))))\n",
    "        x1 = self.bn6(self.dropout(self.pool(F.leaky_relu(self.conv6(x1)))))\n",
    "        x1 = torch.flatten(x1, start_dim = 1)\n",
    " \n",
    "        #x = torch.cat((x1, x2), dim = 1)\n",
    "        h0 = torch.zeros(self.num_layers, x2.size(0),self.hidden_size).to(x2.device)\n",
    "        \n",
    "        print(f' h0 shape {h0.shape}')\n",
    "        print(f' new dim of x2 {x2.shape}')\n",
    "        out, _ = self.rnn(x2, h0)\n",
    "        \n",
    "        \n",
    "        print(f'dim di out {out.shape}')\n",
    "        print(f'dim di x1 {x1.shape}')\n",
    "        out = torch.cat((out[:,-1,:], x1), dim = 1)\n",
    "        print(f' out shape {out.shape}')\n",
    "        out = self.fc(out)\n",
    "\n",
    "        return out"
   ]
  },
  {
   "cell_type": "code",
   "execution_count": 58,
   "metadata": {},
   "outputs": [],
   "source": [
    "model_test=DeepWeather()\n",
    "device = torch.device('cuda') if torch.cuda.is_available() else torch.device('cpu')\n",
    "model_test=model_test.to(device)"
   ]
  },
  {
   "cell_type": "code",
   "execution_count": 59,
   "metadata": {},
   "outputs": [
    {
     "name": "stdout",
     "output_type": "stream",
     "text": [
      " h0 shape torch.Size([2, 1, 16])\n",
      " new dim of x2 torch.Size([1, 7, 10])\n",
      "dim di out torch.Size([1, 7, 16])\n",
      "dim di x1 torch.Size([1, 1344])\n",
      " out shape torch.Size([1, 1360])\n"
     ]
    },
    {
     "data": {
      "text/plain": [
       "tensor([[0.9353]], device='cuda:0', grad_fn=<AddmmBackward0>)"
      ]
     },
     "execution_count": 59,
     "metadata": {},
     "output_type": "execute_result"
    }
   ],
   "source": [
    "#primo elemento del trainloader\n",
    "imgs, xs, ys = next(iter(train_loader))\n",
    "model_test.forward(imgs.to(device), xs.to(device))"
   ]
  },
  {
   "cell_type": "code",
   "execution_count": 60,
   "metadata": {
    "id": "pXkUaJmmefOg"
   },
   "outputs": [],
   "source": [
    "def train(model, dataset, train_loader, test_loader, criterion, optimizer, epochs = 50, first_time = True, num_saved_epochs = 0):\n",
    "    device = torch.device('cuda') if torch.cuda.is_available() else torch.device('cpu')\n",
    "    model.to(device)\n",
    "    train_loss_epochs = []\n",
    "    test_loss_epochs = []\n",
    "    bar = trange(epochs, desc=f\"Epoch ?/?, Train Loss: ?, Test Loss: ?\")\n",
    "    for epoch in bar:\n",
    "        model.train()\n",
    "        train_losses = []\n",
    "        for img, xs, ys in train_loader:\n",
    "            optimizer.zero_grad()\n",
    "            print(img.shape, xs.shape)\n",
    "            outputs = model(img, xs)\n",
    "            loss = criterion(outputs, ys)\n",
    "            loss.backward()\n",
    "            optimizer.step()\n",
    "            train_losses.append(loss.item())\n",
    "            \n",
    "        train_loss_epochs.append(np.mean(train_losses))\n",
    "        model.eval()\n",
    "        test_losses = []\n",
    "        for ims, xs, ys in test_loader:\n",
    "                outputs = model(imgs, xs)\n",
    "                loss = criterion(outputs.squeeze(), ys)\n",
    "                test_losses.append(loss.item())\n",
    "                \n",
    "        test_loss_epochs.append(np.mean(test_losses))\n",
    "        bar.set_description(f\"Epoch {epoch + 1}/{epochs}, Train Loss: {np.mean(train_losses)}, Test Loss: {np.mean(test_losses)}\")\n",
    "        #if first_time:\n",
    "            #torch.save(model.state_dict(), f\"deepweather_epoch{num_saved_epochs + epoch + 1}.pth\")\n",
    "\n",
    "    return train_loss_epochs, test_loss_epochs"
   ]
  },
  {
   "cell_type": "code",
   "execution_count": 61,
   "metadata": {
    "id": "AKV2X85RFp7S"
   },
   "outputs": [
    {
     "ename": "TypeError",
     "evalue": "expected np.ndarray (got Tensor)",
     "output_type": "error",
     "traceback": [
      "\u001b[0;31m---------------------------------------------------------------------------\u001b[0m",
      "\u001b[0;31mTypeError\u001b[0m                                 Traceback (most recent call last)",
      "Cell \u001b[0;32mIn[61], line 10\u001b[0m\n\u001b[1;32m      7\u001b[0m model \u001b[38;5;241m=\u001b[39m DeepWeather()\n\u001b[1;32m      9\u001b[0m \u001b[38;5;66;03m#convert a list of tensor into a tensor\u001b[39;00m\n\u001b[0;32m---> 10\u001b[0m xs_train \u001b[38;5;241m=\u001b[39m \u001b[43mtorch\u001b[49m\u001b[38;5;241;43m.\u001b[39;49m\u001b[43mfrom_numpy\u001b[49m\u001b[43m(\u001b[49m\u001b[43mxs_train\u001b[49m\u001b[43m)\u001b[49m\u001b[38;5;241m.\u001b[39mfloat()\n\u001b[1;32m     11\u001b[0m xs_test \u001b[38;5;241m=\u001b[39m torch\u001b[38;5;241m.\u001b[39mfrom_numpy(xs_test)\u001b[38;5;241m.\u001b[39mfloat()\n\u001b[1;32m     12\u001b[0m imgs_train \u001b[38;5;241m=\u001b[39m torch\u001b[38;5;241m.\u001b[39mfrom_numpy(imgs_train)\u001b[38;5;241m.\u001b[39mfloat()\n",
      "\u001b[0;31mTypeError\u001b[0m: expected np.ndarray (got Tensor)"
     ]
    }
   ],
   "source": [
    "#Uncomment the lines below if you want to train/load a pretrained model\n",
    "#num_saved_epochs = 50\n",
    "#model = model.load_state_dict(torch.load(f'weights/epoch_{num_saved_epochs}'))\n",
    "\n",
    "#Comment the (ONE) line below if you want to train/load a pretrained model.\n",
    "#!mkdir weights\n",
    "model = DeepWeather()\n",
    "\n",
    "#convert a list of tensor into a tensor\n",
    "xs_train = torch.from_numpy(xs_train).float()\n",
    "xs_test = torch.from_numpy(xs_test).float()\n",
    "imgs_train = torch.from_numpy(imgs_train).float()\n",
    "imgs_test = torch.from_numpy(imgs_test).float()\n",
    "ys_train = torch.from_numpy(ys_train).float()\n",
    "ys_test = torch.from_numpy(ys_test).float()\n",
    "\n",
    "\n",
    "train_dataset = torch.utils.data.TensorDataset(imgs_train, xs_train, ys_train)\n",
    "test_dataset = torch.utils.data.TensorDataset(imgs_test, xs_test, ys_test)\n",
    "\n",
    "train_loader = torch.utils.data.DataLoader(train_dataset, batch_size = len (xs_train), shuffle = True)\n",
    "test_loader = torch.utils.data.DataLoader(test_dataset, batch_size = len(xs_test), shuffle = True)\n",
    "\n",
    "print(len(xs_test))\n",
    "\n",
    "#xs_trainloader = DataLoader(xs_train , batch_size = len(xs_train), shuffle = False)\n",
    "#xs_testloader = DataLoader(xs_test, batch_size = len(xs_test), shuffle = False)\n",
    "\n",
    "#imgs_trainloader = DataLoader(imgs_train, batch_size = len(imgs_train), shuffle = False)\n",
    "#imgs_testloader = DataLoader(imgs_test, batch_size = len(imgs_test), shuffle = False)\n",
    "\n",
    "#ys_trainloader = DataLoader(ys_train, batch_size = len(ys_train), shuffle = False)\n",
    "#ys_testloader = DataLoader(ys_test, batch_size = len(ys_test), shuffle = False)\n",
    "\n",
    "criterion = torch.nn.MSELoss()\n",
    "optimizer = torch.optim.SGD(model.parameters(), lr = 10e-6, momentum = 0)"
   ]
  },
  {
   "cell_type": "code",
   "execution_count": null,
   "metadata": {
    "id": "RwAo5dpaH9lH",
    "outputId": "046fb4bb-e399-46ee-d141-df943fcd47ff"
   },
   "outputs": [],
   "source": [
    "train_losses, val_losses = train(model, dataset, train_loader, test_loader, criterion, optimizer, epochs = 50, first_time = True, num_saved_epochs = 0)"
   ]
  },
  {
   "cell_type": "code",
   "execution_count": null,
   "metadata": {},
   "outputs": [],
   "source": [
    "epochs = [epoch for epoch in range(50)]\n",
    "plt.plot(epochs, train_losses, label = 'Training Loss')\n",
    "plt.plot(epochs, val_losses, label = 'Validation Loss')\n",
    "plt.xlabel('Epochs')\n",
    "plt.ylabel('Loss')\n",
    "plt.legend()\n",
    "plt.show()"
   ]
  },
  {
   "cell_type": "code",
   "execution_count": null,
   "metadata": {},
   "outputs": [],
   "source": [
    "def predict(model, date):\n",
    "    device = torch.device('cuda') if torch.cuda.is_available() else torch.device('cpu')\n",
    "\n",
    "    inputs = dataset[date]\n",
    "    inputs = [inputs[0].float().unsqueeze(0).to(device), inputs[1].float().unsqueeze(0).to(device)]\n",
    "\n",
    "    outputs = model(inputs)    \n",
    "    \n",
    "    return outputs"
   ]
  },
  {
   "cell_type": "code",
   "execution_count": null,
   "metadata": {},
   "outputs": [],
   "source": [
    "print(predict(model, '31_12_2023'))\n",
    "print(dataset['31_12_2023'][1][3])"
   ]
  },
  {
   "cell_type": "code",
   "execution_count": null,
   "metadata": {},
   "outputs": [],
   "source": [
    "for date in date_testset:\n",
    "    predicted_rain = predict(model, date)\n",
    "    #non normalized results\n",
    "    predicted_rain = predicted_rain \n",
    "    print(f\"Predicted rain normalized for {date} is {predicted_rain}\")\n",
    "    #while real rain is\n",
    "    print(f\"Real rain normalized  for {date} is {dataset[date][1][3]}\")   \n"
   ]
  }
 ],
 "metadata": {
  "kernelspec": {
   "display_name": "Python 3 (ipykernel)",
   "language": "python",
   "name": "python3"
  },
  "language_info": {
   "codemirror_mode": {
    "name": "ipython",
    "version": 3
   },
   "file_extension": ".py",
   "mimetype": "text/x-python",
   "name": "python",
   "nbconvert_exporter": "python",
   "pygments_lexer": "ipython3",
   "version": "3.9.18"
  }
 },
 "nbformat": 4,
 "nbformat_minor": 4
}
