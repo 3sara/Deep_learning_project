{
 "cells": [
  {
   "cell_type": "code",
   "execution_count": 1,
   "metadata": {},
   "outputs": [],
   "source": [
    "!module load cuda"
   ]
  },
  {
   "cell_type": "code",
   "execution_count": 2,
   "metadata": {},
   "outputs": [],
   "source": [
    "import torch\n",
    "from torch.utils.data import Dataset, DataLoader\n",
    "from torchvision.io import read_image\n",
    "import torchvision.transforms as T\n",
    "\n",
    "import torch.nn as nn\n",
    "import torch.nn.functional as F\n",
    "\n",
    "from sklearn.metrics import r2_score\n",
    "import matplotlib.pyplot as plt\n",
    "import numpy as np\n",
    "import pandas as pd\n",
    "import os\n",
    "\n",
    "from jupyterplot import ProgressPlot\n",
    "from tqdm import tqdm, trange"
   ]
  },
  {
   "cell_type": "code",
   "execution_count": 3,
   "metadata": {
    "id": "aa9ssRQXOF9F"
   },
   "outputs": [],
   "source": [
    "class WeatherDataset(Dataset):\n",
    "    def __init__(self, weather_data = 'data/arpafvg_fllbandiera_clean.csv', img_dir = 'data/images'):\n",
    "        initial_data=pd.read_csv(weather_data)\n",
    "        #normalize the data\n",
    "        for col in initial_data.columns:\n",
    "            if col != 'giorno' and col != 'mese' and col != 'anno':\n",
    "                initial_data[col] = (initial_data[col] - initial_data[col].mean()) / initial_data[col].std()\n",
    "        self.weather_data = initial_data\n",
    "        self.img_dir = img_dir\n",
    "\n",
    "    def __getitem__(self, date):\n",
    "        #get day month year from date in format dd-mm-yyyy\n",
    "        day, month, year = date.split('_')\n",
    "        #get from weather data the row with the same date\n",
    "        weather_data = self.weather_data[(self.weather_data['giorno'] == int(day)) & (self.weather_data['mese'] == int(month)) & (self.weather_data['anno'] == int(year))]\n",
    "        weather_data = torch.tensor(weather_data.values[0])\n",
    "\n",
    "        image = os.path.join(self.img_dir, str(date) + '.jpg')  \n",
    "        image = read_image(image)   \n",
    "        return [image, weather_data]\n",
    "    \n",
    "    def __len__(self):\n",
    "        return len(self.weather_data)"
   ]
  },
  {
   "cell_type": "code",
   "execution_count": 4,
   "metadata": {
    "id": "ujeYNSStERGn"
   },
   "outputs": [],
   "source": [
    "dataset = WeatherDataset()"
   ]
  },
  {
   "cell_type": "code",
   "execution_count": 5,
   "metadata": {},
   "outputs": [],
   "source": [
    "#generate a list of strings dd-mm-yyyy from 01-06-2023 to 15-6-2024\n",
    "from datetime import datetime, timedelta\n",
    "start_date = datetime.strptime(\"01_06_2023\", \"%d_%m_%Y\")\n",
    "end_date = datetime.strptime(\"15_06_2024\", \"%d_%m_%Y\")\n",
    "date_generated = [start_date + timedelta(days=x) for x in range(0, (end_date-start_date).days)]\n",
    "#transform the list of datetime objects in a list of strings in format dd-mm-yyyy\n",
    "date_generated = [date.strftime(\"%d_%m_%Y\") for date in date_generated]\n"
   ]
  },
  {
   "cell_type": "code",
   "execution_count": 6,
   "metadata": {},
   "outputs": [],
   "source": [
    "train_len = int(0.8 * len(date_generated))\n",
    "test_len = len(date_generated) - train_len\n",
    "#split the dataset: date_trainset contains the first 80% of the dates, date_testset contains the remaining 20%\n",
    "date_trainset = date_generated[:train_len]\n",
    "date_testset = date_generated[train_len:]"
   ]
  },
  {
   "cell_type": "code",
   "execution_count": 7,
   "metadata": {
    "id": "JnZwz9bLHcHA",
    "outputId": "c8f79255-4209-4216-c1b4-3ac1383550cb"
   },
   "outputs": [],
   "source": [
    "(image, weather_data) = dataset[date_generated[np.random.randint(low = 0, high = len(dataset))]]\n",
    "#print(weather_data)\n",
    "#print(image)\n"
   ]
  },
  {
   "cell_type": "code",
   "execution_count": 8,
   "metadata": {
    "id": "byxTeA5rUiuG"
   },
   "outputs": [],
   "source": [
    "class DeepWeather(nn.Module):\n",
    "    def __init__(self):\n",
    "        super(DeepWeather, self).__init__()\n",
    "\n",
    "        self.conv1 = nn.Conv2d(in_channels = 3, out_channels = 8, kernel_size = (3, 3), stride = 1)\n",
    "        self.pool = nn.MaxPool2d(2, 2)\n",
    "        self.dropout = nn.Dropout(p = 0.3)\n",
    "        self.bn1 = nn.BatchNorm2d(8)\n",
    "        self.conv2 = nn.Conv2d(in_channels = 8, out_channels = 16, kernel_size = (3, 3), stride = 1)\n",
    "        self.bn2 = nn.BatchNorm2d(16)\n",
    "        self.conv3 = nn.Conv2d(in_channels = 16, out_channels = 32, kernel_size = (3, 3), stride = 1)\n",
    "        self.bn3 = nn.BatchNorm2d(32)\n",
    "        self.conv4 = nn.Conv2d(in_channels = 32, out_channels = 64, kernel_size = (3, 3), stride = 1)\n",
    "        self.bn4 = nn.BatchNorm2d(64)\n",
    "        self.conv5 = nn.Conv2d(in_channels = 64, out_channels = 128, kernel_size = (3, 3), stride = 1)\n",
    "        self.bn5 = nn.BatchNorm2d(128)\n",
    "        self.conv6 = nn.Conv2d(in_channels = 128, out_channels = 256, kernel_size = (3, 3), stride = 1)\n",
    "        self.bn6 = nn.BatchNorm2d(256)\n",
    "        self.fc1 = nn.Linear(9231, 1024)\n",
    "        self.fc2 = nn.Linear(1024, 128)\n",
    "        self.fc3 = nn.Linear(128, 1)\n",
    "\n",
    "    def forward(self, inputs):\n",
    "        x1, x2 = inputs[0], inputs[1]\n",
    "        \n",
    "\n",
    "        x1 = self.bn1(self.dropout(self.pool(F.leaky_relu(self.conv1(x1)))))\n",
    "        x1 = self.bn2(self.dropout(self.pool(F.leaky_relu(self.conv2(x1)))))\n",
    "        x1 = self.bn3(self.dropout(self.pool(F.leaky_relu(self.conv3(x1)))))\n",
    "        x1 = self.bn4(self.dropout(self.pool(F.leaky_relu(self.conv4(x1)))))\n",
    "        x1 = self.bn5(self.dropout(self.pool(F.leaky_relu(self.conv5(x1)))))\n",
    "        x1 = self.bn6(self.dropout(self.pool(F.leaky_relu(self.conv6(x1)))))\n",
    "        x1 = torch.flatten(x1, start_dim = 1)\n",
    "\n",
    "        x = torch.cat((x1, x2), dim = 1)\n",
    "        x = F.leaky_relu(self.fc1(x))\n",
    "        x = F.leaky_relu(self.fc2(x))\n",
    "        x = self.fc3(x)\n",
    "\n",
    "        return x"
   ]
  },
  {
   "cell_type": "code",
   "execution_count": 9,
   "metadata": {
    "id": "pXkUaJmmefOg"
   },
   "outputs": [],
   "source": [
    "def train(model, dataset, date_trainloader, date_testloader, criterion, optimizer, epochs, first_time = True, num_saved_epochs = 0):\n",
    "    device = torch.device('cuda') if torch.cuda.is_available() else torch.device('cpu')\n",
    "    model.to(device)\n",
    "    train_loss_epochs = []\n",
    "    test_loss_epochs = []\n",
    "    bar = trange(epochs, desc=f\"Epoch ?/?, Train Loss: ?, Test Loss: ?\")\n",
    "    for epoch in bar:\n",
    "        model.train()\n",
    "        train_losses = []\n",
    "        for date_inputs in date_trainloader:\n",
    "            inputs = dataset[date_inputs[0]]\n",
    "            inputs = [inputs[0].float().unsqueeze(0).to(device), inputs[1].float().unsqueeze(0).to(device)]\n",
    "\n",
    "            #increment of 1 day the date_inputs\n",
    "            date_next_day = date_inputs[0].split('_')\n",
    "            date_next_day = datetime(int(date_next_day[2]), int(date_next_day[1]), int(date_next_day[0])) + timedelta(days = 1)\n",
    "            date_next_day = date_next_day.strftime(\"%d_%m_%Y\")\n",
    "            target=dataset[date_next_day][1][3].float().to(device)\n",
    "\n",
    "            optimizer.zero_grad()\n",
    "            outputs = model(inputs)\n",
    "            loss = criterion(outputs.squeeze(), target)\n",
    "            #convert the loss type to float\n",
    "            loss = loss.float()\n",
    "            #print(f'loss is {loss}\\n')\n",
    "            loss.backward()\n",
    "            optimizer.step()\n",
    "            train_losses.append(loss.item())\n",
    "        train_loss_epochs.append(np.mean(train_losses))\n",
    "        model.eval()\n",
    "        test_losses = []\n",
    "        for date_inputs in date_testloader:\n",
    "            inputs = dataset[date_inputs[0]]\n",
    "            inputs = [inputs[0].float().unsqueeze(0).to(device), inputs[1].float().unsqueeze(0).to(device)]\n",
    "            outputs = model(inputs)\n",
    "\n",
    "            #increment of 1 day the date_inputs\n",
    "            date_next_day = date_inputs[0].split('_')\n",
    "            date_next_day = datetime(int(date_next_day[2]), int(date_next_day[1]), int(date_next_day[0])) + timedelta(days = 1)\n",
    "            date_next_day = date_next_day.strftime(\"%d_%m_%Y\")\n",
    "            target=dataset[date_next_day][1][3].float().to(device)\n",
    "\n",
    "            loss = criterion(outputs.squeeze(), target)\n",
    "            test_losses.append(loss.item())\n",
    "        test_loss_epochs.append(np.mean(test_losses))\n",
    "        bar.set_description(f\"Epoch {epoch + 1}/{epochs}, Train Loss: {np.mean(train_losses)}, Test Loss: {np.mean(test_losses)}\")\n",
    "        #if first_time:\n",
    "            #torch.save(model.state_dict(), f\"deepweather_epoch{num_saved_epochs + epoch + 1}.pth\")\n",
    "\n",
    "    return train_loss_epochs, test_loss_epochs"
   ]
  },
  {
   "cell_type": "code",
   "execution_count": 10,
   "metadata": {
    "id": "AKV2X85RFp7S"
   },
   "outputs": [],
   "source": [
    "#Uncomment the lines below if you want to train/load a pretrained model\n",
    "#num_saved_epochs = 50\n",
    "#model = model.load_state_dict(torch.load(f'weights/epoch_{num_saved_epochs}'))\n",
    "\n",
    "#Comment the (ONE) line below if you want to train/load a pretrained model.\n",
    "#!mkdir weights\n",
    "model = DeepWeather()\n",
    "\n",
    "date_trainloader = DataLoader(date_trainset, batch_size = 1, shuffle = False)\n",
    "date_testloader = DataLoader(date_testset, batch_size = 1, shuffle = False)\n",
    "\n",
    "criterion = torch.nn.MSELoss()\n",
    "optimizer = torch.optim.SGD(model.parameters(), lr = 10e-6, momentum = 0)"
   ]
  },
  {
   "cell_type": "code",
   "execution_count": 11,
   "metadata": {
    "id": "RwAo5dpaH9lH",
    "outputId": "046fb4bb-e399-46ee-d141-df943fcd47ff"
   },
   "outputs": [
    {
     "name": "stderr",
     "output_type": "stream",
     "text": [
      "Epoch ?/?, Train Loss: ?, Test Loss: ?:   0%|                                                    | 0/50 [00:00<?, ?it/s]/orfeo/cephfs/home/dssc/scarpene/jupyter/lib64/python3.9/site-packages/torch/nn/modules/conv.py:456: UserWarning: Attempt to open cnn_infer failed: handle=0 error: libcudnn_cnn_infer.so.8: cannot open shared object file: No such file or directory (Triggered internally at ../aten/src/ATen/native/cudnn/Conv_v8.cpp:81.)\n",
      "  return F.conv2d(input, weight, bias, self.stride,\n",
      "Epoch 50/50, Train Loss: 0.9821901991016195, Test Loss: 1.0782537389922684: 100%|███████| 50/50 [03:11<00:00,  3.84s/it]\n"
     ]
    }
   ],
   "source": [
    "train_losses, val_losses = train(model, dataset, date_trainloader, date_testloader, criterion, optimizer, epochs = 50, first_time = True, num_saved_epochs = 0)"
   ]
  },
  {
   "cell_type": "code",
   "execution_count": 12,
   "metadata": {},
   "outputs": [
    {
     "data": {
      "image/png": "[encoded data removed]",
      "text/plain": [
       "<Figure size 640x480 with 1 Axes>"
      ]
     },
     "metadata": {},
     "output_type": "display_data"
    }
   ],
   "source": [
    "epochs = [epoch for epoch in range(50)]\n",
    "plt.plot(epochs, train_losses, label = 'Training Loss')\n",
    "plt.plot(epochs, val_losses, label = 'Validation Loss')\n",
    "plt.xlabel('Epochs')\n",
    "plt.ylabel('Loss')\n",
    "plt.legend()\n",
    "plt.show()"
   ]
  },
  {
   "cell_type": "code",
   "execution_count": 13,
   "metadata": {},
   "outputs": [],
   "source": [
    "def predict(model, date):\n",
    "    device = torch.device('cuda') if torch.cuda.is_available() else torch.device('cpu')\n",
    "\n",
    "    inputs = dataset[date]\n",
    "    inputs = [inputs[0].float().unsqueeze(0).to(device), inputs[1].float().unsqueeze(0).to(device)]\n",
    "\n",
    "    outputs = model(inputs)    \n",
    "    \n",
    "    return outputs"
   ]
  },
  {
   "cell_type": "code",
   "execution_count": 14,
   "metadata": {},
   "outputs": [
    {
     "name": "stdout",
     "output_type": "stream",
     "text": [
      "tensor([[-0.0185]], device='cuda:0', grad_fn=<AddmmBackward0>)\n",
      "tensor(-0.2589, dtype=torch.float64)\n"
     ]
    }
   ],
   "source": [
    "print(predict(model, '31_12_2023'))\n",
    "print(dataset['31_12_2023'][1][3])"
   ]
  },
  {
   "cell_type": "code",
   "execution_count": null,
   "metadata": {},
   "outputs": [
    {
     "name": "stdout",
     "output_type": "stream",
     "text": [
      "Predicted rain normalized for 31_03_2024 is tensor([[-0.0183]], device='cuda:0', grad_fn=<AddmmBackward0>)\n",
      "Real rain normalized  for 31_03_2024 is -0.06831469270541114\n",
      "Predicted rain normalized for 01_04_2024 is tensor([[-0.0186]], device='cuda:0', grad_fn=<AddmmBackward0>)\n",
      "Real rain normalized  for 01_04_2024 is 2.8909295153398413\n",
      "Predicted rain normalized for 02_04_2024 is tensor([[-0.0186]], device='cuda:0', grad_fn=<AddmmBackward0>)\n",
      "Real rain normalized  for 02_04_2024 is -0.3709646685282211\n",
      "Predicted rain normalized for 03_04_2024 is tensor([[-0.0185]], device='cuda:0', grad_fn=<AddmmBackward0>)\n",
      "Real rain normalized  for 03_04_2024 is -0.3709646685282211\n"
     ]
    }
   ],
   "source": [
    "for date in date_testset:\n",
    "    predicted_rain = predict(model, date)\n",
    "    #non normalized results\n",
    "    predicted_rain = predicted_rain \n",
    "    print(f\"Predicted rain normalized for {date} is {predicted_rain}\")\n",
    "    #while real rain is\n",
    "    print(f\"Real rain normalized  for {date} is {dataset[date][1][3]}\")   \n"
   ]
  },
  {
   "cell_type": "code",
   "execution_count": null,
   "metadata": {},
   "outputs": [],
   "source": [
    "data = valset[np.random.randint(low = 0, high = len(valset))]\n",
    "\n",
    "inputs = data[0]\n",
    "inputs[0] = inputs[0].unsqueeze(0)\n",
    "inputs[1] = inputs[1].unsqueeze(0)\n",
    "\n",
    "label = (data[1] * dataset.labels_std) + dataset.labels_means\n",
    "forecast = (inputs[1] * dataset.forecasts_std) + dataset.forecasts_means\n",
    "\n",
    "prediction = predict(model, dataset, inputs)\n",
    "\n",
    "forecast = forecast.squeeze()\n",
    "prediction = prediction.squeeze()\n",
    "\n",
    "print(f\"Forecast:\\n    Average Temp: {forecast[0]:.2f}K    Min Temp: {forecast[1]:.2f}K    Max Temp: {forecast[2]:.2f}K    Humidity: {forecast[4]:.2f}%    Clouds: {forecast[3]:.2f}%\")\n",
    "print(f\"\\nLabel:\\n    Average Temp: {label[0]:.2f}K    Min Temp: {label[1]:.2f}K    Max Temp: {label[2]:.2f}K    Humidity: {label[3]:.2f}%\")\n",
    "print(f\"\\nPrediction:\\n    Average Temp: {prediction[0]:.2f}K    Min Temp: {prediction[1]:.2f}K    Max Temp: {prediction[2]:.2f}K    Humidity: {prediction[3]:.2f}%\")"
   ]
  },
  {
   "cell_type": "code",
   "execution_count": null,
   "metadata": {},
   "outputs": [],
   "source": [
    "trainloader = DataLoader(trainset, batch_size = 128, shuffle = False)\n",
    "train_r2 = 0\n",
    "train_avg_temp_r2 = 0\n",
    "train_min_temp_r2 = 0\n",
    "train_max_temp_r2 = 0\n",
    "train_humidity_r2 = 0\n",
    "for i, data in enumerate(trainloader):\n",
    "    inputs = data[0]\n",
    "    labels = data[1]\n",
    "    labels = (labels * dataset.labels_std) + dataset.labels_means\n",
    "    \n",
    "    outputs = predict(model, dataset, inputs)\n",
    "    \n",
    "    train_r2 += r2_score(labels, outputs)\n",
    "    train_avg_temp_r2 += r2_score(labels[:, 0], outputs[:, 0])\n",
    "    train_min_temp_r2 += r2_score(labels[:, 1], outputs[:, 1])\n",
    "    train_max_temp_r2 += r2_score(labels[:, 2], outputs[:, 2])\n",
    "    train_humidity_r2 += r2_score(labels[:, 3], outputs[:, 3])\n",
    "    \n",
    "train_r2 /= len(trainloader)\n",
    "train_avg_temp_r2 /= len(trainloader)\n",
    "train_min_temp_r2 /= len(trainloader)\n",
    "train_max_temp_r2 /= len(trainloader)\n",
    "train_humidity_r2 /= len(trainloader)\n",
    "\n",
    "print(\"Training Data R2 Scores:\")\n",
    "print(f\"    Avg Temp: {train_avg_temp_r2:.3f}\")\n",
    "print(f\"    Min Temp: {train_min_temp_r2:.3f}\")\n",
    "print(f\"    Max Temp: {train_max_temp_r2:.3f}\")\n",
    "print(f\"    Humidity: {train_humidity_r2:.3f}\")\n",
    "print(f\"    Total: {train_r2:.3f}\")\n",
    "    \n",
    "    \n",
    "    \n",
    "    \n",
    "valloader = DataLoader(valset, batch_size = 128, shuffle = False)\n",
    "val_r2 = 0\n",
    "val_avg_temp_r2 = 0\n",
    "val_min_temp_r2 = 0\n",
    "val_max_temp_r2 = 0\n",
    "val_humidity_r2 = 0\n",
    "for i, data in enumerate(valloader):\n",
    "    inputs = data[0]\n",
    "    labels = data[1]\n",
    "    labels = (labels * dataset.labels_std) + dataset.labels_means\n",
    "    \n",
    "    outputs = predict(model, dataset, inputs)\n",
    "    \n",
    "    val_r2 += r2_score(labels, outputs)\n",
    "    val_avg_temp_r2 += r2_score(labels[:, 0], outputs[:, 0])\n",
    "    val_min_temp_r2 += r2_score(labels[:, 1], outputs[:, 1])\n",
    "    val_max_temp_r2 += r2_score(labels[:, 2], outputs[:, 2])\n",
    "    val_humidity_r2 += r2_score(labels[:, 3], outputs[:, 3])\n",
    "    \n",
    "val_r2 /= len(valloader)\n",
    "val_avg_temp_r2 /= len(valloader)\n",
    "val_min_temp_r2 /= len(valloader)\n",
    "val_max_temp_r2 /= len(valloader)\n",
    "val_humidity_r2 /= len(valloader)\n",
    "\n",
    "print(\"\\nValidation Data R2 Scores:\")\n",
    "print(f\"    Avg Temp: {val_avg_temp_r2:.3f}\")\n",
    "print(f\"    Min Temp: {val_min_temp_r2:.3f}\")\n",
    "print(f\"    Max Temp: {val_max_temp_r2:.3f}\")\n",
    "print(f\"    Humidity: {val_humidity_r2:.3f}\")\n",
    "print(f\"    Total: {val_r2:.3f}\")\n",
    "\n",
    "\n",
    "\n",
    "\n",
    "dataloader = DataLoader(dataset, batch_size = 128)\n",
    "forecast_r2 = 0\n",
    "forecast_avg_temp_r2 = 0\n",
    "forecast_min_temp_r2 = 0\n",
    "forecast_max_temp_r2 = 0\n",
    "forecast_humidity_r2 = 0\n",
    "for i, data in enumerate(dataloader):\n",
    "    inputs = data[0]\n",
    "    labels = data[1]\n",
    "    forecasts = inputs[1]\n",
    "    forecasts = forecasts[:, np.r_[:3, 4]]\n",
    "    \n",
    "    forecast_avg_temp_r2 += r2_score(labels[:, 0], forecasts[:, 0])\n",
    "    forecast_min_temp_r2 += r2_score(labels[:, 1], forecasts[:, 1])\n",
    "    forecast_max_temp_r2 += r2_score(labels[:, 2], forecasts[:, 2])\n",
    "    forecast_humidity_r2 += r2_score(labels[:, 3], forecasts[:, 3])\n",
    "    forecast_r2 += r2_score(forecasts, labels)\n",
    "    \n",
    "forecast_r2 /= len(dataloader)\n",
    "forecast_avg_temp_r2 /= len(dataloader)\n",
    "forecast_min_temp_r2 /= len(dataloader)\n",
    "forecast_max_temp_r2 /= len(dataloader)\n",
    "forecast_humidity_r2 /= len(dataloader)\n",
    "\n",
    "print(\"\\nForecast Data R2 Scores:\")\n",
    "print(f\"    Avg Temp: {forecast_avg_temp_r2:.3f}\")\n",
    "print(f\"    Min Temp: {forecast_min_temp_r2:.3f}\")\n",
    "print(f\"    Max Temp: {forecast_max_temp_r2:.3f}\")\n",
    "print(f\"    Humidity: {forecast_humidity_r2:.3f}\")\n",
    "print(f\"    Total: {forecast_r2:.3f}\")"
   ]
  }
 ],
 "metadata": {
  "kernelspec": {
   "display_name": "Python 3 (ipykernel)",
   "language": "python",
   "name": "python3"
  },
  "language_info": {
   "codemirror_mode": {
    "name": "ipython",
    "version": 3
   },
   "file_extension": ".py",
   "mimetype": "text/x-python",
   "name": "python",
   "nbconvert_exporter": "python",
   "pygments_lexer": "ipython3",
   "version": "3.9.18"
  }
 },
 "nbformat": 4,
 "nbformat_minor": 4
}
