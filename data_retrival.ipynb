{
 "cells": [
  {
   "cell_type": "code",
   "execution_count": 1,
   "metadata": {},
   "outputs": [],
   "source": [
    "import pandas as pd\n",
    "import datetime\n",
    "import os"
   ]
  },
  {
   "cell_type": "code",
   "execution_count": 2,
   "metadata": {},
   "outputs": [],
   "source": [
    "arpafvg_data = pd.read_csv('data/arpafvg_fllbandiera_2023.csv', sep=';')\n"
   ]
  },
  {
   "cell_type": "code",
   "execution_count": 3,
   "metadata": {},
   "outputs": [],
   "source": [
    "def get_day_month_year_from_unix(unix_timestamp):\n",
    "    # Convert Unix timestamp to datetime object\n",
    "    dt_object = datetime.datetime.fromtimestamp(unix_timestamp)\n",
    "    \n",
    "    # Extract day, month, and year\n",
    "    day = dt_object.day\n",
    "    month = dt_object.month\n",
    "    year = dt_object.year\n",
    "    \n",
    "    return day, month, year"
   ]
  },
  {
   "cell_type": "code",
   "execution_count": 4,
   "metadata": {},
   "outputs": [],
   "source": [
    "def list_folder_contents(folder_path):\n",
    "    try:        \n",
    "        if not os.path.exists(folder_path):\n",
    "            print(\"The specified folder does not exist.\")\n",
    "            return []\n",
    "        \n",
    "        folder_elements = os.listdir(folder_path)\n",
    "        return folder_elements\n",
    "    except Exception as e:\n",
    "        print(f\"An error occurred: {e}\")\n",
    "        return []"
   ]
  },
  {
   "cell_type": "code",
   "execution_count": 5,
   "metadata": {},
   "outputs": [
    {
     "name": "stdout",
     "output_type": "stream",
     "text": [
      "['1672605030.png', '1672691430.png']\n",
      "   mese  giorno  Pioggia mm Temp. min gradi C Temp. med gradi C  \\\n",
      "0     1       1         0.0              11.2              11.9   \n",
      "\n",
      "  Temp. max gradi C Umidita' min % Umidita' med % Umidita' max %  \\\n",
      "0              12.8             89             93             95   \n",
      "\n",
      "  Vento med km/h Vento max km/h Dir. V. max gradi N Radiaz. KJ/m2  \\\n",
      "0              5             15                 276          1190   \n",
      "\n",
      "  Press. med hPa  \n",
      "0         1031.0  \n",
      "   mese  giorno  Pioggia mm Temp. min gradi C Temp. med gradi C  \\\n",
      "1     1       2         0.4              10.1              10.7   \n",
      "\n",
      "  Temp. max gradi C Umidita' min % Umidita' med % Umidita' max %  \\\n",
      "1              11.9             91             96             99   \n",
      "\n",
      "  Vento med km/h Vento max km/h Dir. V. max gradi N Radiaz. KJ/m2  \\\n",
      "1              5             16                 307           347   \n",
      "\n",
      "  Press. med hPa  \n",
      "1         1029.9  \n"
     ]
    }
   ],
   "source": [
    "#!!!!!!!!!!!this need to be changed for every user\n",
    "folder_name = \"/home/saradsai/Deep_learning_project/data/images\"  \n",
    "\n",
    "elements_list = list_folder_contents(folder_name)\n",
    "print(elements_list)\n",
    "\n",
    "for file in elements_list:\n",
    "    date = os.path.splitext(file)[0]\n",
    "    date = int(date)\n",
    "    day, month, year = get_day_month_year_from_unix(date)\n",
    "    statistics_of_the_day = arpafvg_data[(arpafvg_data['mese'] == month) & (arpafvg_data['giorno'] == day)]\n",
    "    print(statistics_of_the_day)"
   ]
  }
 ],
 "metadata": {
  "kernelspec": {
   "display_name": "Python 3",
   "language": "python",
   "name": "python3"
  },
  "language_info": {
   "codemirror_mode": {
    "name": "ipython",
    "version": 3
   },
   "file_extension": ".py",
   "mimetype": "text/x-python",
   "name": "python",
   "nbconvert_exporter": "python",
   "pygments_lexer": "ipython3",
   "version": "3.10.12"
  }
 },
 "nbformat": 4,
 "nbformat_minor": 2
}
