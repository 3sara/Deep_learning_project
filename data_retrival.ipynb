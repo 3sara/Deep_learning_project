{
 "cells": [
  {
   "cell_type": "code",
   "execution_count": 1,
   "metadata": {},
   "outputs": [],
   "source": [
    "import pandas as pd\n",
    "import datetime"
   ]
  },
  {
   "cell_type": "code",
   "execution_count": 2,
   "metadata": {},
   "outputs": [],
   "source": [
    "def get_day_month_year_from_unix(unix_timestamp):\n",
    "    # Convert Unix timestamp to datetime object\n",
    "    dt_object = datetime.datetime.fromtimestamp(unix_timestamp)\n",
    "    \n",
    "    # Extract day, month, and year\n",
    "    day = dt_object.day\n",
    "    month = dt_object.month\n",
    "    year = dt_object.year\n",
    "    \n",
    "    return day, month, year"
   ]
  },
  {
   "cell_type": "code",
   "execution_count": 3,
   "metadata": {},
   "outputs": [
    {
     "name": "stdout",
     "output_type": "stream",
     "text": [
      "Day: 1, Month: 1, Year: 2023\n"
     ]
    }
   ],
   "source": [
    "# Example \n",
    "unix_timestamp = \t1672605030  # 01/01/2023\n",
    "day, month, year = get_day_month_year_from_unix(unix_timestamp)\n",
    "\n",
    "print(f\"Day: {day}, Month: {month}, Year: {year}\")"
   ]
  },
  {
   "cell_type": "code",
   "execution_count": 4,
   "metadata": {},
   "outputs": [],
   "source": [
    "arpafvg_data = pd.read_csv('data/arpafvg_fllbandiera_2023.csv', sep=';')\n"
   ]
  },
  {
   "cell_type": "code",
   "execution_count": 5,
   "metadata": {},
   "outputs": [],
   "source": [
    "#retrive the row of the month and day\n",
    "statistics_of_the_day = arpafvg_data[(arpafvg_data['mese'] == month) & (arpafvg_data['giorno'] == day)]\n"
   ]
  },
  {
   "cell_type": "code",
   "execution_count": 6,
   "metadata": {},
   "outputs": [
    {
     "name": "stdout",
     "output_type": "stream",
     "text": [
      "   mese  giorno  Pioggia mm Temp. min gradi C Temp. med gradi C  \\\n",
      "0     1       1         0.0              11.2              11.9   \n",
      "\n",
      "  Temp. max gradi C Umidita' min % Umidita' med % Umidita' max %  \\\n",
      "0              12.8             89             93             95   \n",
      "\n",
      "  Vento med km/h Vento max km/h Dir. V. max gradi N Radiaz. KJ/m2  \\\n",
      "0              5             15                 276          1190   \n",
      "\n",
      "  Press. med hPa  \n",
      "0         1031.0  \n"
     ]
    }
   ],
   "source": [
    "print(statistics_of_the_day)"
   ]
  }
 ],
 "metadata": {
  "kernelspec": {
   "display_name": "Python 3",
   "language": "python",
   "name": "python3"
  },
  "language_info": {
   "codemirror_mode": {
    "name": "ipython",
    "version": 3
   },
   "file_extension": ".py",
   "mimetype": "text/x-python",
   "name": "python",
   "nbconvert_exporter": "python",
   "pygments_lexer": "ipython3",
   "version": "3.10.12"
  }
 },
 "nbformat": 4,
 "nbformat_minor": 2
}
