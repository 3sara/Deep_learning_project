{
 "cells": [
  {
   "cell_type": "code",
   "execution_count": 1,
   "metadata": {},
   "outputs": [],
   "source": [
    "!module load cuda"
   ]
  },
  {
   "cell_type": "code",
   "execution_count": 2,
   "metadata": {},
   "outputs": [],
   "source": [
    "import torch\n",
    "from torch.utils.data import Dataset, DataLoader\n",
    "from torchvision.io import read_image\n",
    "import torchvision.transforms as T\n",
    "\n",
    "import torch.nn as nn\n",
    "import torch.nn.functional as F\n",
    "\n",
    "from sklearn.metrics import r2_score\n",
    "import matplotlib.pyplot as plt\n",
    "import numpy as np\n",
    "import pandas as pd\n",
    "import os\n",
    "\n",
    "from jupyterplot import ProgressPlot\n",
    "from tqdm import tqdm, trange"
   ]
  },
  {
   "cell_type": "code",
   "execution_count": 3,
   "metadata": {
    "id": "aa9ssRQXOF9F"
   },
   "outputs": [],
   "source": [
    "class WeatherDataset(Dataset):\n",
    "    def __init__(self, weather_data = 'data/arpafvg_fllbandiera_clean.csv', img_dir = 'data/images_enhanced'):\n",
    "        initial_data=pd.read_csv(weather_data)\n",
    "        #normalize the data\n",
    "        for col in initial_data.columns:\n",
    "            if col != 'giorno' and col != 'mese' and col != 'anno':\n",
    "                initial_data[col] = (initial_data[col] - initial_data[col].mean()) / initial_data[col].std()\n",
    "        self.weather_data = initial_data\n",
    "        self.img_dir = img_dir\n",
    "\n",
    "    def __getitem__(self, date):\n",
    "        #get day month year from date in format dd-mm-yyyy\n",
    "        day, month, year = date.split('_')\n",
    "        #get from weather data the row with the same date\n",
    "        weather_data = self.weather_data[(self.weather_data['giorno'] == int(day)) & (self.weather_data['mese'] == int(month)) & (self.weather_data['anno'] == int(year))]\n",
    "        weather_data = torch.tensor(weather_data.values[0])\n",
    "\n",
    "        image = os.path.join(self.img_dir, str(date) + '.jpg')  \n",
    "        image = read_image(image)   \n",
    "        return [image, weather_data]\n",
    "    \n",
    "    def __len__(self):\n",
    "        return len(self.weather_data)"
   ]
  },
  {
   "cell_type": "code",
   "execution_count": 4,
   "metadata": {
    "id": "ujeYNSStERGn"
   },
   "outputs": [],
   "source": [
    "dataset = WeatherDataset()"
   ]
  },
  {
   "cell_type": "code",
   "execution_count": 5,
   "metadata": {},
   "outputs": [],
   "source": [
    "#generate a list of strings dd-mm-yyyy from 01-06-2023 to 15-6-2024\n",
    "from datetime import datetime, timedelta\n",
    "start_date = datetime.strptime(\"01_01_2022\", \"%d_%m_%Y\")\n",
    "end_date = datetime.strptime(\"15_06_2024\", \"%d_%m_%Y\")\n",
    "date_generated = [start_date + timedelta(days=x) for x in range(0, (end_date-start_date).days)]\n",
    "#transform the list of datetime objects in a list of strings in format dd-mm-yyyy\n",
    "date_generated = [date.strftime(\"%d_%m_%Y\") for date in date_generated]\n"
   ]
  },
  {
   "cell_type": "code",
   "execution_count": 6,
   "metadata": {},
   "outputs": [],
   "source": [
    "train_len = int(0.8 * len(date_generated))\n",
    "test_len = len(date_generated) - train_len\n",
    "#split the dataset: date_trainset contains the first 80% of the dates, date_testset contains the remaining 20%\n",
    "date_trainset = date_generated[:train_len]\n",
    "date_testset = date_generated[train_len:]"
   ]
  },
  {
   "cell_type": "code",
   "execution_count": 7,
   "metadata": {
    "id": "JnZwz9bLHcHA",
    "outputId": "c8f79255-4209-4216-c1b4-3ac1383550cb"
   },
   "outputs": [
    {
     "ename": "IndexError",
     "evalue": "index 0 is out of bounds for axis 0 with size 0",
     "output_type": "error",
     "traceback": [
      "\u001b[0;31m---------------------------------------------------------------------------\u001b[0m",
      "\u001b[0;31mIndexError\u001b[0m                                Traceback (most recent call last)",
      "Cell \u001b[0;32mIn[7], line 1\u001b[0m\n\u001b[0;32m----> 1\u001b[0m (image, weather_data) \u001b[38;5;241m=\u001b[39m \u001b[43mdataset\u001b[49m\u001b[43m[\u001b[49m\u001b[43mdate_generated\u001b[49m\u001b[43m[\u001b[49m\u001b[43mnp\u001b[49m\u001b[38;5;241;43m.\u001b[39;49m\u001b[43mrandom\u001b[49m\u001b[38;5;241;43m.\u001b[39;49m\u001b[43mrandint\u001b[49m\u001b[43m(\u001b[49m\u001b[43mlow\u001b[49m\u001b[43m \u001b[49m\u001b[38;5;241;43m=\u001b[39;49m\u001b[43m \u001b[49m\u001b[38;5;241;43m0\u001b[39;49m\u001b[43m,\u001b[49m\u001b[43m \u001b[49m\u001b[43mhigh\u001b[49m\u001b[43m \u001b[49m\u001b[38;5;241;43m=\u001b[39;49m\u001b[43m \u001b[49m\u001b[38;5;28;43mlen\u001b[39;49m\u001b[43m(\u001b[49m\u001b[43mdataset\u001b[49m\u001b[43m)\u001b[49m\u001b[43m)\u001b[49m\u001b[43m]\u001b[49m\u001b[43m]\u001b[49m\n\u001b[1;32m      2\u001b[0m \u001b[38;5;66;03m#print(weather_data)\u001b[39;00m\n\u001b[1;32m      3\u001b[0m \u001b[38;5;66;03m#print(image)\u001b[39;00m\n",
      "Cell \u001b[0;32mIn[3], line 16\u001b[0m, in \u001b[0;36mWeatherDataset.__getitem__\u001b[0;34m(self, date)\u001b[0m\n\u001b[1;32m     14\u001b[0m \u001b[38;5;66;03m#get from weather data the row with the same date\u001b[39;00m\n\u001b[1;32m     15\u001b[0m weather_data \u001b[38;5;241m=\u001b[39m \u001b[38;5;28mself\u001b[39m\u001b[38;5;241m.\u001b[39mweather_data[(\u001b[38;5;28mself\u001b[39m\u001b[38;5;241m.\u001b[39mweather_data[\u001b[38;5;124m'\u001b[39m\u001b[38;5;124mgiorno\u001b[39m\u001b[38;5;124m'\u001b[39m] \u001b[38;5;241m==\u001b[39m \u001b[38;5;28mint\u001b[39m(day)) \u001b[38;5;241m&\u001b[39m (\u001b[38;5;28mself\u001b[39m\u001b[38;5;241m.\u001b[39mweather_data[\u001b[38;5;124m'\u001b[39m\u001b[38;5;124mmese\u001b[39m\u001b[38;5;124m'\u001b[39m] \u001b[38;5;241m==\u001b[39m \u001b[38;5;28mint\u001b[39m(month)) \u001b[38;5;241m&\u001b[39m (\u001b[38;5;28mself\u001b[39m\u001b[38;5;241m.\u001b[39mweather_data[\u001b[38;5;124m'\u001b[39m\u001b[38;5;124manno\u001b[39m\u001b[38;5;124m'\u001b[39m] \u001b[38;5;241m==\u001b[39m \u001b[38;5;28mint\u001b[39m(year))]\n\u001b[0;32m---> 16\u001b[0m weather_data \u001b[38;5;241m=\u001b[39m torch\u001b[38;5;241m.\u001b[39mtensor(\u001b[43mweather_data\u001b[49m\u001b[38;5;241;43m.\u001b[39;49m\u001b[43mvalues\u001b[49m\u001b[43m[\u001b[49m\u001b[38;5;241;43m0\u001b[39;49m\u001b[43m]\u001b[49m)\n\u001b[1;32m     18\u001b[0m image \u001b[38;5;241m=\u001b[39m os\u001b[38;5;241m.\u001b[39mpath\u001b[38;5;241m.\u001b[39mjoin(\u001b[38;5;28mself\u001b[39m\u001b[38;5;241m.\u001b[39mimg_dir, \u001b[38;5;28mstr\u001b[39m(date) \u001b[38;5;241m+\u001b[39m \u001b[38;5;124m'\u001b[39m\u001b[38;5;124m.jpg\u001b[39m\u001b[38;5;124m'\u001b[39m)  \n\u001b[1;32m     19\u001b[0m image \u001b[38;5;241m=\u001b[39m read_image(image)   \n",
      "\u001b[0;31mIndexError\u001b[0m: index 0 is out of bounds for axis 0 with size 0"
     ]
    }
   ],
   "source": [
    "(image, weather_data) = dataset[date_generated[np.random.randint(low = 0, high = len(dataset))]]\n",
    "#print(weather_data)\n",
    "#print(image)\n"
   ]
  },
  {
   "cell_type": "code",
   "execution_count": 8,
   "metadata": {
    "id": "byxTeA5rUiuG"
   },
   "outputs": [],
   "source": [
    "class DeepWeather(nn.Module):\n",
    "    def __init__(self):\n",
    "        super(DeepWeather, self).__init__()\n",
    "\n",
    "        self.conv1 = nn.Conv2d(in_channels = 3, out_channels = 32, kernel_size = (3, 3), stride = 2)\n",
    "        self.pool = nn.MaxPool2d(2, 2)\n",
    "        self.dropout = nn.Dropout(p = 0.3)\n",
    "        self.bn1 = nn.BatchNorm2d(32)\n",
    "        self.conv2 = nn.Conv2d(in_channels = 32, out_channels = 64, kernel_size = (3, 3), stride = 2)\n",
    "        self.bn2 = nn.BatchNorm2d(64)\n",
    "        self.conv3 = nn.Conv2d(in_channels = 64, out_channels = 128, kernel_size = (3, 3), stride = 2)\n",
    "        self.bn3 = nn.BatchNorm2d(128)\n",
    "        self.fc1 = nn.Linear(6287, 1024)\n",
    "        self.fc2 = nn.Linear(1024, 128)\n",
    "        self.fc3 = nn.Linear(128, 1)\n",
    "\n",
    "    def forward(self, inputs):\n",
    "        x1, x2 = inputs[0], inputs[1]\n",
    "        \n",
    "\n",
    "        x1 = self.bn1(self.dropout(self.pool(F.leaky_relu(self.conv1(x1)))))\n",
    "        x1 = self.bn2(self.dropout(self.pool(F.leaky_relu(self.conv2(x1)))))\n",
    "        x1 = self.bn3(self.dropout(self.pool(F.leaky_relu(self.conv3(x1)))))\n",
    "        x1 = torch.flatten(x1, start_dim = 1)\n",
    "\n",
    "        x = torch.cat((x1, x2), dim = 1)\n",
    "        x = F.leaky_relu(self.fc1(x))\n",
    "        x = F.leaky_relu(self.fc2(x))\n",
    "        x = self.fc3(x)\n",
    "\n",
    "        return x"
   ]
  },
  {
   "cell_type": "code",
   "execution_count": 9,
   "metadata": {
    "id": "pXkUaJmmefOg"
   },
   "outputs": [],
   "source": [
    "def train(model, dataset, date_trainloader, date_testloader, criterion, optimizer, epochs, first_time = True, num_saved_epochs = 0):\n",
    "    device = torch.device('cuda') if torch.cuda.is_available() else torch.device('cpu')\n",
    "    model.to(device)\n",
    "    train_loss_epochs = []\n",
    "    test_loss_epochs = []\n",
    "    bar = trange(epochs, desc=f\"Epoch ?/?, Train Loss: ?, Test Loss: ?\")\n",
    "    for epoch in bar:\n",
    "        model.train()\n",
    "        train_losses = []\n",
    "        for date_inputs in date_trainloader:\n",
    "            inputs = dataset[date_inputs[0]]\n",
    "            inputs = [inputs[0].float().unsqueeze(0).to(device), inputs[1].float().unsqueeze(0).to(device)]\n",
    "\n",
    "            #increment of 1 day the date_inputs\n",
    "            date_next_day = date_inputs[0].split('_')\n",
    "            date_next_day = datetime(int(date_next_day[2]), int(date_next_day[1]), int(date_next_day[0])) + timedelta(days = 1)\n",
    "            date_next_day = date_next_day.strftime(\"%d_%m_%Y\")\n",
    "            target=dataset[date_next_day][1][3].float().to(device)\n",
    "\n",
    "            optimizer.zero_grad()\n",
    "            outputs = model(inputs)\n",
    "            loss = criterion(outputs.squeeze(), target)\n",
    "            #convert the loss type to float\n",
    "            loss = loss.float()\n",
    "            #print(f'loss is {loss}\\n')\n",
    "            loss.backward()\n",
    "            optimizer.step()\n",
    "            train_losses.append(loss.item())\n",
    "        train_loss_epochs.append(np.mean(train_losses))\n",
    "        model.eval()\n",
    "        test_losses = []\n",
    "        for date_inputs in date_testloader:\n",
    "            inputs = dataset[date_inputs[0]]\n",
    "            inputs = [inputs[0].float().unsqueeze(0).to(device), inputs[1].float().unsqueeze(0).to(device)]\n",
    "            outputs = model(inputs)\n",
    "\n",
    "            #increment of 1 day the date_inputs\n",
    "            date_next_day = date_inputs[0].split('_')\n",
    "            date_next_day = datetime(int(date_next_day[2]), int(date_next_day[1]), int(date_next_day[0])) + timedelta(days = 1)\n",
    "            date_next_day = date_next_day.strftime(\"%d_%m_%Y\")\n",
    "            target=dataset[date_next_day][1][3].float().to(device)\n",
    "\n",
    "            loss = criterion(outputs.squeeze(), target)\n",
    "            test_losses.append(loss.item())\n",
    "        test_loss_epochs.append(np.mean(test_losses))\n",
    "        bar.set_description(f\"Epoch {epoch + 1}/{epochs}, Train Loss: {np.mean(train_losses)}, Test Loss: {np.mean(test_losses)}\")\n",
    "        #if first_time:\n",
    "            #torch.save(model.state_dict(), f\"deepweather_epoch{num_saved_epochs + epoch + 1}.pth\")\n",
    "\n",
    "    return train_loss_epochs, test_loss_epochs"
   ]
  },
  {
   "cell_type": "code",
   "execution_count": 10,
   "metadata": {
    "id": "AKV2X85RFp7S"
   },
   "outputs": [],
   "source": [
    "#Uncomment the lines below if you want to train/load a pretrained model\n",
    "#num_saved_epochs = 50\n",
    "#model = model.load_state_dict(torch.load(f'weights/epoch_{num_saved_epochs}'))\n",
    "\n",
    "#Comment the (ONE) line below if you want to train/load a pretrained model.\n",
    "#!mkdir weights\n",
    "model = DeepWeather()\n",
    "\n",
    "date_trainloader = DataLoader(date_trainset, batch_size = 1, shuffle = False)\n",
    "date_testloader = DataLoader(date_testset, batch_size = 1, shuffle = False)\n",
    "\n",
    "criterion = torch.nn.MSELoss()\n",
    "optimizer = torch.optim.SGD(model.parameters(), lr = 10e-6, momentum = 0)"
   ]
  },
  {
   "cell_type": "code",
   "execution_count": 11,
   "metadata": {
    "id": "RwAo5dpaH9lH",
    "outputId": "046fb4bb-e399-46ee-d141-df943fcd47ff"
   },
   "outputs": [
    {
     "name": "stderr",
     "output_type": "stream",
     "text": [
      "Epoch ?/?, Train Loss: ?, Test Loss: ?:   0%|                                                    | 0/50 [00:00<?, ?it/s]\n"
     ]
    },
    {
     "ename": "IndexError",
     "evalue": "index 0 is out of bounds for axis 0 with size 0",
     "output_type": "error",
     "traceback": [
      "\u001b[0;31m---------------------------------------------------------------------------\u001b[0m",
      "\u001b[0;31mIndexError\u001b[0m                                Traceback (most recent call last)",
      "Cell \u001b[0;32mIn[11], line 1\u001b[0m\n\u001b[0;32m----> 1\u001b[0m train_losses, val_losses \u001b[38;5;241m=\u001b[39m \u001b[43mtrain\u001b[49m\u001b[43m(\u001b[49m\u001b[43mmodel\u001b[49m\u001b[43m,\u001b[49m\u001b[43m \u001b[49m\u001b[43mdataset\u001b[49m\u001b[43m,\u001b[49m\u001b[43m \u001b[49m\u001b[43mdate_trainloader\u001b[49m\u001b[43m,\u001b[49m\u001b[43m \u001b[49m\u001b[43mdate_testloader\u001b[49m\u001b[43m,\u001b[49m\u001b[43m \u001b[49m\u001b[43mcriterion\u001b[49m\u001b[43m,\u001b[49m\u001b[43m \u001b[49m\u001b[43moptimizer\u001b[49m\u001b[43m,\u001b[49m\u001b[43m \u001b[49m\u001b[43mepochs\u001b[49m\u001b[43m \u001b[49m\u001b[38;5;241;43m=\u001b[39;49m\u001b[43m \u001b[49m\u001b[38;5;241;43m50\u001b[39;49m\u001b[43m,\u001b[49m\u001b[43m \u001b[49m\u001b[43mfirst_time\u001b[49m\u001b[43m \u001b[49m\u001b[38;5;241;43m=\u001b[39;49m\u001b[43m \u001b[49m\u001b[38;5;28;43;01mTrue\u001b[39;49;00m\u001b[43m,\u001b[49m\u001b[43m \u001b[49m\u001b[43mnum_saved_epochs\u001b[49m\u001b[43m \u001b[49m\u001b[38;5;241;43m=\u001b[39;49m\u001b[43m \u001b[49m\u001b[38;5;241;43m0\u001b[39;49m\u001b[43m)\u001b[49m\n",
      "Cell \u001b[0;32mIn[9], line 11\u001b[0m, in \u001b[0;36mtrain\u001b[0;34m(model, dataset, date_trainloader, date_testloader, criterion, optimizer, epochs, first_time, num_saved_epochs)\u001b[0m\n\u001b[1;32m      9\u001b[0m train_losses \u001b[38;5;241m=\u001b[39m []\n\u001b[1;32m     10\u001b[0m \u001b[38;5;28;01mfor\u001b[39;00m date_inputs \u001b[38;5;129;01min\u001b[39;00m date_trainloader:\n\u001b[0;32m---> 11\u001b[0m     inputs \u001b[38;5;241m=\u001b[39m \u001b[43mdataset\u001b[49m\u001b[43m[\u001b[49m\u001b[43mdate_inputs\u001b[49m\u001b[43m[\u001b[49m\u001b[38;5;241;43m0\u001b[39;49m\u001b[43m]\u001b[49m\u001b[43m]\u001b[49m\n\u001b[1;32m     12\u001b[0m     inputs \u001b[38;5;241m=\u001b[39m [inputs[\u001b[38;5;241m0\u001b[39m]\u001b[38;5;241m.\u001b[39mfloat()\u001b[38;5;241m.\u001b[39munsqueeze(\u001b[38;5;241m0\u001b[39m)\u001b[38;5;241m.\u001b[39mto(device), inputs[\u001b[38;5;241m1\u001b[39m]\u001b[38;5;241m.\u001b[39mfloat()\u001b[38;5;241m.\u001b[39munsqueeze(\u001b[38;5;241m0\u001b[39m)\u001b[38;5;241m.\u001b[39mto(device)]\n\u001b[1;32m     14\u001b[0m     \u001b[38;5;66;03m#increment of 1 day the date_inputs\u001b[39;00m\n",
      "Cell \u001b[0;32mIn[3], line 16\u001b[0m, in \u001b[0;36mWeatherDataset.__getitem__\u001b[0;34m(self, date)\u001b[0m\n\u001b[1;32m     14\u001b[0m \u001b[38;5;66;03m#get from weather data the row with the same date\u001b[39;00m\n\u001b[1;32m     15\u001b[0m weather_data \u001b[38;5;241m=\u001b[39m \u001b[38;5;28mself\u001b[39m\u001b[38;5;241m.\u001b[39mweather_data[(\u001b[38;5;28mself\u001b[39m\u001b[38;5;241m.\u001b[39mweather_data[\u001b[38;5;124m'\u001b[39m\u001b[38;5;124mgiorno\u001b[39m\u001b[38;5;124m'\u001b[39m] \u001b[38;5;241m==\u001b[39m \u001b[38;5;28mint\u001b[39m(day)) \u001b[38;5;241m&\u001b[39m (\u001b[38;5;28mself\u001b[39m\u001b[38;5;241m.\u001b[39mweather_data[\u001b[38;5;124m'\u001b[39m\u001b[38;5;124mmese\u001b[39m\u001b[38;5;124m'\u001b[39m] \u001b[38;5;241m==\u001b[39m \u001b[38;5;28mint\u001b[39m(month)) \u001b[38;5;241m&\u001b[39m (\u001b[38;5;28mself\u001b[39m\u001b[38;5;241m.\u001b[39mweather_data[\u001b[38;5;124m'\u001b[39m\u001b[38;5;124manno\u001b[39m\u001b[38;5;124m'\u001b[39m] \u001b[38;5;241m==\u001b[39m \u001b[38;5;28mint\u001b[39m(year))]\n\u001b[0;32m---> 16\u001b[0m weather_data \u001b[38;5;241m=\u001b[39m torch\u001b[38;5;241m.\u001b[39mtensor(\u001b[43mweather_data\u001b[49m\u001b[38;5;241;43m.\u001b[39;49m\u001b[43mvalues\u001b[49m\u001b[43m[\u001b[49m\u001b[38;5;241;43m0\u001b[39;49m\u001b[43m]\u001b[49m)\n\u001b[1;32m     18\u001b[0m image \u001b[38;5;241m=\u001b[39m os\u001b[38;5;241m.\u001b[39mpath\u001b[38;5;241m.\u001b[39mjoin(\u001b[38;5;28mself\u001b[39m\u001b[38;5;241m.\u001b[39mimg_dir, \u001b[38;5;28mstr\u001b[39m(date) \u001b[38;5;241m+\u001b[39m \u001b[38;5;124m'\u001b[39m\u001b[38;5;124m.jpg\u001b[39m\u001b[38;5;124m'\u001b[39m)  \n\u001b[1;32m     19\u001b[0m image \u001b[38;5;241m=\u001b[39m read_image(image)   \n",
      "\u001b[0;31mIndexError\u001b[0m: index 0 is out of bounds for axis 0 with size 0"
     ]
    }
   ],
   "source": [
    "train_losses, val_losses = train(model, dataset, date_trainloader, date_testloader, criterion, optimizer, epochs = 50, first_time = True, num_saved_epochs = 0)"
   ]
  },
  {
   "cell_type": "code",
   "execution_count": null,
   "metadata": {},
   "outputs": [],
   "source": [
    "epochs = [epoch for epoch in range(50)]\n",
    "plt.plot(epochs, train_losses, label = 'Training Loss')\n",
    "plt.plot(epochs, val_losses, label = 'Validation Loss')\n",
    "plt.xlabel('Epochs')\n",
    "plt.ylabel('Loss')\n",
    "plt.legend()\n",
    "plt.show()"
   ]
  },
  {
   "cell_type": "code",
   "execution_count": null,
   "metadata": {},
   "outputs": [],
   "source": [
    "def predict(model, date):\n",
    "    device = torch.device('cuda') if torch.cuda.is_available() else torch.device('cpu')\n",
    "\n",
    "    inputs = dataset[date]\n",
    "    inputs = [inputs[0].float().unsqueeze(0).to(device), inputs[1].float().unsqueeze(0).to(device)]\n",
    "\n",
    "    outputs = model(inputs)    \n",
    "    \n",
    "    return outputs"
   ]
  },
  {
   "cell_type": "code",
   "execution_count": null,
   "metadata": {},
   "outputs": [],
   "source": [
    "print(predict(model, '31_12_2023'))\n",
    "print(dataset['31_12_2023'][1][3])"
   ]
  },
  {
   "cell_type": "code",
   "execution_count": null,
   "metadata": {},
   "outputs": [],
   "source": [
    "for date in date_testset:\n",
    "    predicted_rain = predict(model, date)\n",
    "    #non normalized results\n",
    "    predicted_rain = predicted_rain \n",
    "    print(f\"Predicted rain normalized for {date} is {predicted_rain}\")\n",
    "    #while real rain is\n",
    "    print(f\"Real rain normalized  for {date} is {dataset[date][1][3]}\")   \n"
   ]
  },
  {
   "cell_type": "code",
   "execution_count": null,
   "metadata": {},
   "outputs": [],
   "source": [
    "data = valset[np.random.randint(low = 0, high = len(valset))]\n",
    "\n",
    "inputs = data[0]\n",
    "inputs[0] = inputs[0].unsqueeze(0)\n",
    "inputs[1] = inputs[1].unsqueeze(0)\n",
    "\n",
    "label = (data[1] * dataset.labels_std) + dataset.labels_means\n",
    "forecast = (inputs[1] * dataset.forecasts_std) + dataset.forecasts_means\n",
    "\n",
    "prediction = predict(model, dataset, inputs)\n",
    "\n",
    "forecast = forecast.squeeze()\n",
    "prediction = prediction.squeeze()\n",
    "\n",
    "print(f\"Forecast:\\n    Average Temp: {forecast[0]:.2f}K    Min Temp: {forecast[1]:.2f}K    Max Temp: {forecast[2]:.2f}K    Humidity: {forecast[4]:.2f}%    Clouds: {forecast[3]:.2f}%\")\n",
    "print(f\"\\nLabel:\\n    Average Temp: {label[0]:.2f}K    Min Temp: {label[1]:.2f}K    Max Temp: {label[2]:.2f}K    Humidity: {label[3]:.2f}%\")\n",
    "print(f\"\\nPrediction:\\n    Average Temp: {prediction[0]:.2f}K    Min Temp: {prediction[1]:.2f}K    Max Temp: {prediction[2]:.2f}K    Humidity: {prediction[3]:.2f}%\")"
   ]
  },
  {
   "cell_type": "code",
   "execution_count": null,
   "metadata": {},
   "outputs": [],
   "source": [
    "trainloader = DataLoader(trainset, batch_size = 128, shuffle = False)\n",
    "train_r2 = 0\n",
    "train_avg_temp_r2 = 0\n",
    "train_min_temp_r2 = 0\n",
    "train_max_temp_r2 = 0\n",
    "train_humidity_r2 = 0\n",
    "for i, data in enumerate(trainloader):\n",
    "    inputs = data[0]\n",
    "    labels = data[1]\n",
    "    labels = (labels * dataset.labels_std) + dataset.labels_means\n",
    "    \n",
    "    outputs = predict(model, dataset, inputs)\n",
    "    \n",
    "    train_r2 += r2_score(labels, outputs)\n",
    "    train_avg_temp_r2 += r2_score(labels[:, 0], outputs[:, 0])\n",
    "    train_min_temp_r2 += r2_score(labels[:, 1], outputs[:, 1])\n",
    "    train_max_temp_r2 += r2_score(labels[:, 2], outputs[:, 2])\n",
    "    train_humidity_r2 += r2_score(labels[:, 3], outputs[:, 3])\n",
    "    \n",
    "train_r2 /= len(trainloader)\n",
    "train_avg_temp_r2 /= len(trainloader)\n",
    "train_min_temp_r2 /= len(trainloader)\n",
    "train_max_temp_r2 /= len(trainloader)\n",
    "train_humidity_r2 /= len(trainloader)\n",
    "\n",
    "print(\"Training Data R2 Scores:\")\n",
    "print(f\"    Avg Temp: {train_avg_temp_r2:.3f}\")\n",
    "print(f\"    Min Temp: {train_min_temp_r2:.3f}\")\n",
    "print(f\"    Max Temp: {train_max_temp_r2:.3f}\")\n",
    "print(f\"    Humidity: {train_humidity_r2:.3f}\")\n",
    "print(f\"    Total: {train_r2:.3f}\")\n",
    "    \n",
    "    \n",
    "    \n",
    "    \n",
    "valloader = DataLoader(valset, batch_size = 128, shuffle = False)\n",
    "val_r2 = 0\n",
    "val_avg_temp_r2 = 0\n",
    "val_min_temp_r2 = 0\n",
    "val_max_temp_r2 = 0\n",
    "val_humidity_r2 = 0\n",
    "for i, data in enumerate(valloader):\n",
    "    inputs = data[0]\n",
    "    labels = data[1]\n",
    "    labels = (labels * dataset.labels_std) + dataset.labels_means\n",
    "    \n",
    "    outputs = predict(model, dataset, inputs)\n",
    "    \n",
    "    val_r2 += r2_score(labels, outputs)\n",
    "    val_avg_temp_r2 += r2_score(labels[:, 0], outputs[:, 0])\n",
    "    val_min_temp_r2 += r2_score(labels[:, 1], outputs[:, 1])\n",
    "    val_max_temp_r2 += r2_score(labels[:, 2], outputs[:, 2])\n",
    "    val_humidity_r2 += r2_score(labels[:, 3], outputs[:, 3])\n",
    "    \n",
    "val_r2 /= len(valloader)\n",
    "val_avg_temp_r2 /= len(valloader)\n",
    "val_min_temp_r2 /= len(valloader)\n",
    "val_max_temp_r2 /= len(valloader)\n",
    "val_humidity_r2 /= len(valloader)\n",
    "\n",
    "print(\"\\nValidation Data R2 Scores:\")\n",
    "print(f\"    Avg Temp: {val_avg_temp_r2:.3f}\")\n",
    "print(f\"    Min Temp: {val_min_temp_r2:.3f}\")\n",
    "print(f\"    Max Temp: {val_max_temp_r2:.3f}\")\n",
    "print(f\"    Humidity: {val_humidity_r2:.3f}\")\n",
    "print(f\"    Total: {val_r2:.3f}\")\n",
    "\n",
    "\n",
    "\n",
    "\n",
    "dataloader = DataLoader(dataset, batch_size = 128)\n",
    "forecast_r2 = 0\n",
    "forecast_avg_temp_r2 = 0\n",
    "forecast_min_temp_r2 = 0\n",
    "forecast_max_temp_r2 = 0\n",
    "forecast_humidity_r2 = 0\n",
    "for i, data in enumerate(dataloader):\n",
    "    inputs = data[0]\n",
    "    labels = data[1]\n",
    "    forecasts = inputs[1]\n",
    "    forecasts = forecasts[:, np.r_[:3, 4]]\n",
    "    \n",
    "    forecast_avg_temp_r2 += r2_score(labels[:, 0], forecasts[:, 0])\n",
    "    forecast_min_temp_r2 += r2_score(labels[:, 1], forecasts[:, 1])\n",
    "    forecast_max_temp_r2 += r2_score(labels[:, 2], forecasts[:, 2])\n",
    "    forecast_humidity_r2 += r2_score(labels[:, 3], forecasts[:, 3])\n",
    "    forecast_r2 += r2_score(forecasts, labels)\n",
    "    \n",
    "forecast_r2 /= len(dataloader)\n",
    "forecast_avg_temp_r2 /= len(dataloader)\n",
    "forecast_min_temp_r2 /= len(dataloader)\n",
    "forecast_max_temp_r2 /= len(dataloader)\n",
    "forecast_humidity_r2 /= len(dataloader)\n",
    "\n",
    "print(\"\\nForecast Data R2 Scores:\")\n",
    "print(f\"    Avg Temp: {forecast_avg_temp_r2:.3f}\")\n",
    "print(f\"    Min Temp: {forecast_min_temp_r2:.3f}\")\n",
    "print(f\"    Max Temp: {forecast_max_temp_r2:.3f}\")\n",
    "print(f\"    Humidity: {forecast_humidity_r2:.3f}\")\n",
    "print(f\"    Total: {forecast_r2:.3f}\")"
   ]
  }
 ],
 "metadata": {
  "kernelspec": {
   "display_name": "Python 3 (ipykernel)",
   "language": "python",
   "name": "python3"
  },
  "language_info": {
   "codemirror_mode": {
    "name": "ipython",
    "version": 3
   },
   "file_extension": ".py",
   "mimetype": "text/x-python",
   "name": "python",
   "nbconvert_exporter": "python",
   "pygments_lexer": "ipython3",
   "version": "3.9.18"
  }
 },
 "nbformat": 4,
 "nbformat_minor": 4
}
