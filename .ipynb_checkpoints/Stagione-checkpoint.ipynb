{
 "cells": [
  {
   "cell_type": "code",
   "execution_count": 1,
   "metadata": {},
   "outputs": [],
   "source": [
    "!module load cuda"
   ]
  },
  {
   "cell_type": "code",
   "execution_count": 2,
   "metadata": {},
   "outputs": [],
   "source": [
    "import torch\n",
    "from torch.utils.data import Dataset, DataLoader\n",
    "from torchvision.io import read_image\n",
    "import torchvision.transforms as T\n",
    "\n",
    "import torch.nn as nn\n",
    "import torch.nn.functional as F\n",
    "\n",
    "from sklearn.metrics import r2_score\n",
    "import matplotlib.pyplot as plt\n",
    "import numpy as np\n",
    "import pandas as pd\n",
    "import os\n",
    "\n",
    "from jupyterplot import ProgressPlot\n",
    "from tqdm import tqdm, trange\n"
   ]
  },
  {
   "cell_type": "code",
   "execution_count": 8,
   "metadata": {},
   "outputs": [],
   "source": [
    "from datetime import datetime, timedelta"
   ]
  },
  {
   "cell_type": "code",
   "execution_count": 10,
   "metadata": {
    "id": "aa9ssRQXOF9F"
   },
   "outputs": [],
   "source": [
    "class WeatherDataset(Dataset):\n",
    "    def __init__(self, weather_data = 'data/big_arpafvg.csv', img_dir = 'data/cut_images'):\n",
    "        initial_data=pd.read_csv(weather_data)\n",
    "        initial_data = initial_data.drop(columns=['Temp. min gradi C','Temp. med gradi C','Temp. max gradi C','Vento med km/h','Dir. V. max gradi N'])\n",
    "        #normalize the data\n",
    "        for col in initial_data.columns:\n",
    "            if col != 'giorno' and col != 'mese' and col != 'anno':\n",
    "                initial_data[col] = (initial_data[col] - initial_data[col].mean()) / initial_data[col].std()\n",
    "        self.weather_data = initial_data\n",
    "        self.img_dir = img_dir\n",
    "        self.seq_length = 7\n",
    "        self.target_column_index = 3\n",
    "        self.date_generated = []\n",
    "\n",
    "    def __getitem__(self, date):\n",
    "        #get day month year from date in format dd-mm-yyyy\n",
    "        day, month, year = date.split('_')\n",
    "        #get from weather data the row with the same date\n",
    "        weather_data = self.weather_data[(self.weather_data['giorno'] == int(day)) & (self.weather_data['mese'] == int(month)) & (self.weather_data['anno'] == int(year))]\n",
    "        weather_data = torch.tensor(weather_data.values[0])\n",
    "\n",
    "        image = os.path.join(self.img_dir, str(date) + '.jpg')  \n",
    "        image = read_image(image)   \n",
    "        return [image, weather_data]\n",
    "    \n",
    "    def __len__(self):\n",
    "        return len(self.weather_data)\n",
    "\n",
    "    def date_generation(self, start_date1, end_date1, start_date2, end_date2, start_date3, end_date3):\n",
    "        start_date1 = datetime.strptime(start_date1, \"%d_%m_%Y\")\n",
    "        end_date1 = datetime.strptime(end_date1, \"%d_%m_%Y\")\n",
    "        start_date2 = datetime.strptime(start_date2, \"%d_%m_%Y\")\n",
    "        end_date2 = datetime.strptime(end_date2, \"%d_%m_%Y\")\n",
    "        start_date3 = datetime.strptime(start_date3, \"%d_%m_%Y\")\n",
    "        end_date3 = datetime.strptime(end_date3, \"%d_%m_%Y\")\n",
    "        date_generated1 = [start_date1 + timedelta(days=x) for x in range(0, (end_date1-start_date1).days)]\n",
    "        date_generated2 = [start_date2 + timedelta(days=x) for x in range(0, (end_date2-start_date2).days)]\n",
    "        date_generated3 = [start_date3 + timedelta(days=x) for x in range(0, (end_date3-start_date3).days)]\n",
    "        date_generated = date_generated1 + date_generated2 + date_generated3\n",
    "        #transform the list of datetime objects in a list of strings in format dd-mm-yyyy\n",
    "        date_generated = [date.strftime(\"%d_%m_%Y\") for date in date_generated]\n",
    "        self.date_generated=date_generated\n",
    "        return date_generated\n",
    "    \n",
    "    def create_sequence(self, date, len_seq):\n",
    "        batch_xs =[]\n",
    "        batch_imgs = []\n",
    "        batch_ys = []\n",
    "        for elem in date:\n",
    "            ys = []\n",
    "            end_of_week = elem.split('_')\n",
    "            end_of_week = datetime(int(end_of_week[2]), int(end_of_week[1]), int(end_of_week[0])) + timedelta(days = len_seq)\n",
    "            end_of_week = end_of_week.strftime(\"%d_%m_%Y\")\n",
    "            imgs, xs =[], []\n",
    "            week=self.date_generation(elem,end_of_week)\n",
    "            for day in week:\n",
    "                a , b = self.__getitem__(day)\n",
    "                imgs.append(a)\n",
    "                xs.append(b)\n",
    "\n",
    "\n",
    "            next = end_of_week.split('_')\n",
    "            next = datetime(int(next[2]), int(next[1]), int(next[0])) + timedelta(days = 1)\n",
    "            next = next.strftime(\"%d_%m_%Y\")\n",
    "            ys.append(self.__getitem__(next)[1][self.target_column_index])\n",
    "            imgs = np.array(imgs)\n",
    "            xs = np.array(xs)\n",
    "            ys = np.array(ys)\n",
    "            imgs = torch.from_numpy(imgs).float()\n",
    "            xs = torch.from_numpy(xs).float()\n",
    "            ys = torch.from_numpy(ys).float()\n",
    "        batch_xs.append(xs)\n",
    "        batch_imgs.append(imgs)\n",
    "        batch_ys.append(ys)\n",
    "                    \n",
    "        batch_xs = np.array(batch_xs)\n",
    "        batch_imgs = np.array(batch_imgs)\n",
    "        batch_ys = np.array(batch_ys)\n",
    "        batch_xs = torch.from_numpy(batch_xs).float()\n",
    "        batch_imgs = torch.from_numpy(batch_imgs).float()\n",
    "        batch_ys = torch.from_numpy(batch_ys).float()\n",
    "        return batch_imgs, batch_xs, batch_ys"
   ]
  },
  {
   "cell_type": "code",
   "execution_count": 11,
   "metadata": {
    "id": "ujeYNSStERGn"
   },
   "outputs": [],
   "source": [
    "dataset = WeatherDataset()"
   ]
  },
  {
   "cell_type": "code",
   "execution_count": 5,
   "metadata": {},
   "outputs": [],
   "source": [
    "#generate a list of strings dd-mm-yyyy from 01-06-2023 to 15-6-2024\n",
    "#from datetime import datetime, timedelta\n",
    "#start_date = datetime.strptime(\"20_12_2023\", \"%d_%m_%Y\")\n",
    "#end_date = datetime.strptime(\"20_03_2024\", \"%d_%m_%Y\")\n",
    "#date_generated = [start_date + timedelta(days=x) for x in range(0, (end_date-start_date).days)]\n",
    "#transform the list of datetime objects in a list of strings in format dd-mm-yyyy\n",
    "#date_generated = [date.strftime(\"%d_%m_%Y\") for date in date_generated]\n"
   ]
  },
  {
   "cell_type": "code",
   "execution_count": 12,
   "metadata": {},
   "outputs": [],
   "source": [
    "dataset.date_generation(\"01_01_2022\", \"20_03_2022\", \"01_01_2023\", \"20_03_2023\", \"01_01_2024\", \"20_03_2024\")\n",
    "date_generated = dataset.date_generated"
   ]
  },
  {
   "cell_type": "code",
   "execution_count": 13,
   "metadata": {},
   "outputs": [],
   "source": [
    "train_len = int(0.8 * len(date_generated))\n",
    "test_len = len(date_generated) - train_len\n",
    "#split the dataset: date_trainset contains the first 80% of the dates, date_testset contains the remaining 20%\n",
    "date_trainset = date_generated[:train_len]\n",
    "date_testset = date_generated[train_len:]"
   ]
  },
  {
   "cell_type": "code",
   "execution_count": 14,
   "metadata": {
    "id": "byxTeA5rUiuG"
   },
   "outputs": [],
   "source": [
    "#MODIFIED CNN\n",
    "\n",
    "class DeepWeather(nn.Module):\n",
    "    def __init__(self):\n",
    "        super(DeepWeather, self).__init__()\n",
    "\n",
    "        self.conv1 = nn.Conv2d(in_channels = 3, out_channels = 8, kernel_size = (3, 3), stride = 1)\n",
    "        self.pool = nn.MaxPool2d(2, 2)\n",
    "        self.dropout = nn.Dropout(p = 0.3)\n",
    "        self.bn1 = nn.BatchNorm2d(8)\n",
    "        self.conv2 = nn.Conv2d(in_channels = 8, out_channels = 16, kernel_size = (3, 3), stride = 1)\n",
    "        self.bn2 = nn.BatchNorm2d(16)\n",
    "        self.conv3 = nn.Conv2d(in_channels = 16, out_channels = 32, kernel_size = (3, 3), stride = 1)\n",
    "        self.bn3 = nn.BatchNorm2d(32)\n",
    "        self.conv4 = nn.Conv2d(in_channels = 32, out_channels = 64, kernel_size = (3, 3), stride = 1)\n",
    "        self.bn4 = nn.BatchNorm2d(64)\n",
    "        self.conv5 = nn.Conv2d(in_channels = 64, out_channels = 128, kernel_size = (3, 3), stride = 1)\n",
    "        self.bn5 = nn.BatchNorm2d(128)\n",
    "        self.conv6 = nn.Conv2d(in_channels = 128, out_channels = 256, kernel_size = (3, 3), stride = 1)\n",
    "        self.bn6 = nn.BatchNorm2d(256)\n",
    "        self.fc1 = nn.Linear(6154, 1024)\n",
    "        self.fc2 = nn.Linear(1024, 128)\n",
    "        self.fc3 = nn.Linear(128, 1)\n",
    "\n",
    "    def forward(self, inputs):\n",
    "        x1, x2 = inputs[0], inputs[1]\n",
    "        \n",
    "\n",
    "        x1 = self.bn1(self.dropout(self.pool(F.leaky_relu(self.conv1(x1)))))\n",
    "        x1 = self.bn2(self.dropout(self.pool(F.leaky_relu(self.conv2(x1)))))\n",
    "        x1 = self.bn3(self.dropout(self.pool(F.leaky_relu(self.conv3(x1)))))\n",
    "        x1 = self.bn4(self.dropout(self.pool(F.leaky_relu(self.conv4(x1)))))\n",
    "        x1 = self.bn5(self.dropout(self.pool(F.leaky_relu(self.conv5(x1)))))\n",
    "        x1 = self.bn6(self.dropout(self.pool(F.leaky_relu(self.conv6(x1)))))\n",
    "        x1 = torch.flatten(x1, start_dim = 1)\n",
    "\n",
    "        x = torch.cat((x1, x2), dim = 1)\n",
    "        x = F.leaky_relu(self.fc1(x))\n",
    "        x = F.leaky_relu(self.fc2(x))\n",
    "        x = self.fc3(x)\n",
    "\n",
    "        return x"
   ]
  },
  {
   "cell_type": "code",
   "execution_count": null,
   "metadata": {},
   "outputs": [],
   "source": [
    "#ORIGINAL CNN\n",
    "'''\n",
    "class DeepWeather(nn.Module):\n",
    "    def __init__(self):\n",
    "        super(DeepWeather, self).__init__()\n",
    "\n",
    "        self.conv1 = nn.Conv2d(in_channels = 3, out_channels = 32, kernel_size = (3, 3), stride = 2)\n",
    "        self.pool = nn.MaxPool2d(2, 2)\n",
    "        self.dropout = nn.Dropout(p = 0.3)\n",
    "        self.bn1 = nn.BatchNorm2d(32)\n",
    "        self.conv2 = nn.Conv2d(in_channels = 32, out_channels = 64, kernel_size = (3, 3), stride = 2)\n",
    "        self.bn2 = nn.BatchNorm2d(64)\n",
    "        self.conv3 = nn.Conv2d(in_channels = 64, out_channels = 128, kernel_size = (3, 3), stride = 2)\n",
    "        self.bn3 = nn.BatchNorm2d(128)\n",
    "        self.fc1 = nn.Linear(6282, 1024)\n",
    "        self.fc2 = nn.Linear(1024, 128)\n",
    "        self.fc3 = nn.Linear(128, 1)\n",
    "\n",
    "    def forward(self, inputs):\n",
    "        x1, x2 = inputs[0], inputs[1]\n",
    "        \n",
    "\n",
    "        x1 = self.bn1(self.dropout(self.pool(F.leaky_relu(self.conv1(x1)))))\n",
    "        x1 = self.bn2(self.dropout(self.pool(F.leaky_relu(self.conv2(x1)))))\n",
    "        x1 = self.bn3(self.dropout(self.pool(F.leaky_relu(self.conv3(x1)))))\n",
    "        x1 = torch.flatten(x1, start_dim = 1)\n",
    "\n",
    "        x = torch.cat((x1, x2), dim = 1)\n",
    "        x = F.leaky_relu(self.fc1(x))\n",
    "        x = F.leaky_relu(self.fc2(x))\n",
    "        x = self.fc3(x)\n",
    "\n",
    "        return x\n",
    "'''"
   ]
  },
  {
   "cell_type": "code",
   "execution_count": 15,
   "metadata": {
    "id": "pXkUaJmmefOg"
   },
   "outputs": [],
   "source": [
    "def train(model, dataset, batch_size, date_trainloader, date_testloader, criterion, optimizer, epochs, first_time=True, num_saved_epochs=0):\n",
    "    device = torch.device('cuda') if torch.cuda.is_available() else torch.device('cpu')\n",
    "    model.to(device)\n",
    "    train_loss_epochs = []\n",
    "    test_loss_epochs = []\n",
    "    bar = trange(epochs, desc=f\"Epoch ?/?, Train Loss: ?, Test Loss: ?\")\n",
    "    for epoch in bar:\n",
    "        model.train()\n",
    "        train_losses = []\n",
    "        for date_inputs in date_trainloader:\n",
    "            #print(f\"date_inputs length: {len(date_inputs)}, batch_size: {batch_size}\")\n",
    "            for date_idx in range(min(batch_size, len(date_inputs))):\n",
    "                date_input = date_inputs[date_idx]\n",
    "\n",
    "                inputs = dataset[date_input]\n",
    "                # Convert to right type, size and load to device\n",
    "                inputs = [inputs[0].float().unsqueeze(0).to(device), inputs[1].float().unsqueeze(0).to(device)]\n",
    "\n",
    "                # Increment of 1 day the date_inputs\n",
    "                date_next_day = date_input.split('_')\n",
    "                date_next_day = datetime(int(date_next_day[2]), int(date_next_day[1]), int(date_next_day[0])) + timedelta(days=1)\n",
    "                date_next_day = date_next_day.strftime(\"%d_%m_%Y\")\n",
    "                \n",
    "                if date_next_day not in dataset:\n",
    "                    print(f\"Date {date_next_day} not found in dataset\")\n",
    "                    continue\n",
    "                \n",
    "                target = dataset[date_next_day][1][3].float().to(device)\n",
    "                outputs = model(inputs)\n",
    "                loss = criterion(outputs.squeeze(), target)\n",
    "                train_losses.append(loss.item())\n",
    "\n",
    "            optimizer.zero_grad()\n",
    "            loss.backward()\n",
    "            optimizer.step()\n",
    "\n",
    "        train_loss_epochs.append(np.mean(train_losses))\n",
    "        model.eval()\n",
    "        test_losses = []\n",
    "        for date_inputs in date_testloader:\n",
    "            #print(f\"date_inputs length: {len(date_inputs)}, batch_size: {batch_size}\")\n",
    "            for date_idx in range(min(batch_size, len(date_inputs))):\n",
    "                date_input = date_inputs[date_idx]\n",
    "\n",
    "                inputs = dataset[date_input]\n",
    "                # Convert to right type, size and load to device\n",
    "                inputs = [inputs[0].float().unsqueeze(0).to(device), inputs[1].float().unsqueeze(0).to(device)]\n",
    "\n",
    "                # Increment of 1 day the date_inputs\n",
    "                date_next_day = date_input.split('_')\n",
    "                date_next_day = datetime(int(date_next_day[2]), int(date_next_day[1]), int(date_next_day[0])) + timedelta(days=1)\n",
    "                date_next_day = date_next_day.strftime(\"%d_%m_%Y\")\n",
    "                \n",
    "                if date_next_day not in dataset:\n",
    "                    #print(f\"Date {date_next_day} not found in dataset\")\n",
    "                    continue\n",
    "                \n",
    "                target = dataset[date_next_day][1][3].float().to(device)\n",
    "                outputs = model(inputs)\n",
    "                loss = criterion(outputs.squeeze(), target)\n",
    "                test_losses.append(loss.item())\n",
    "\n",
    "        test_loss_epochs.append(np.mean(test_losses))\n",
    "        bar.set_description(f\"Epoch {epoch + 1}/{epochs}, Train Loss: {np.mean(train_losses)}, Test Loss: {np.mean(test_losses)}\")\n",
    "        # if first_time:\n",
    "        #     torch.save(model.state_dict(), f\"deepweather_epoch{num_saved_epochs + epoch + 1}.pth\")\n",
    "    return train_loss_epochs, test_loss_epochs"
   ]
  },
  {
   "cell_type": "code",
   "execution_count": 16,
   "metadata": {
    "id": "AKV2X85RFp7S"
   },
   "outputs": [],
   "source": [
    "#Uncomment the lines below if you want to train/load a pretrained model\n",
    "#num_saved_epochs = 50\n",
    "#model = model.load_state_dict(torch.load(f'weights/epoch_{num_saved_epochs}'))\n",
    "\n",
    "#Comment the (ONE) line below if you want to train/load a pretrained model.\n",
    "#!mkdir weights\n",
    "model = DeepWeather()\n",
    "batch_size = 5\n",
    "\n",
    "date_trainloader = DataLoader(date_trainset, batch_size = batch_size, shuffle = False)\n",
    "\n",
    "date_testloader = DataLoader(date_testset, batch_size = batch_size, shuffle = False)\n",
    "\n",
    "criterion = torch.nn.MSELoss()\n",
    "optimizer = torch.optim.SGD(model.parameters(), lr = 10e-6, momentum = 0)"
   ]
  },
  {
   "cell_type": "code",
   "execution_count": 17,
   "metadata": {
    "id": "RwAo5dpaH9lH",
    "outputId": "046fb4bb-e399-46ee-d141-df943fcd47ff"
   },
   "outputs": [
    {
     "name": "stderr",
     "output_type": "stream",
     "text": [
      "Epoch ?/?, Train Loss: ?, Test Loss: ?:   0%|                                                                 | 0/50 [00:00<?, ?it/s]\n"
     ]
    },
    {
     "ename": "AttributeError",
     "evalue": "'int' object has no attribute 'split'",
     "output_type": "error",
     "traceback": [
      "\u001b[0;31m---------------------------------------------------------------------------\u001b[0m",
      "\u001b[0;31mAttributeError\u001b[0m                            Traceback (most recent call last)",
      "Cell \u001b[0;32mIn[17], line 1\u001b[0m\n\u001b[0;32m----> 1\u001b[0m train_losses, test_losses \u001b[38;5;241m=\u001b[39m \u001b[43mtrain\u001b[49m\u001b[43m(\u001b[49m\u001b[43mmodel\u001b[49m\u001b[43m,\u001b[49m\u001b[43m \u001b[49m\u001b[43mdataset\u001b[49m\u001b[43m,\u001b[49m\u001b[43m \u001b[49m\u001b[43mbatch_size\u001b[49m\u001b[43m,\u001b[49m\u001b[43m \u001b[49m\u001b[43mdate_trainloader\u001b[49m\u001b[43m,\u001b[49m\u001b[43m \u001b[49m\u001b[43mdate_testloader\u001b[49m\u001b[43m,\u001b[49m\u001b[43m \u001b[49m\u001b[43mcriterion\u001b[49m\u001b[43m,\u001b[49m\u001b[43m \u001b[49m\u001b[43moptimizer\u001b[49m\u001b[43m,\u001b[49m\u001b[43m \u001b[49m\u001b[43mepochs\u001b[49m\u001b[43m \u001b[49m\u001b[38;5;241;43m=\u001b[39;49m\u001b[43m \u001b[49m\u001b[38;5;241;43m50\u001b[39;49m\u001b[43m,\u001b[49m\u001b[43m \u001b[49m\u001b[43mfirst_time\u001b[49m\u001b[43m \u001b[49m\u001b[38;5;241;43m=\u001b[39;49m\u001b[43m \u001b[49m\u001b[38;5;28;43;01mTrue\u001b[39;49;00m\u001b[43m,\u001b[49m\u001b[43m \u001b[49m\u001b[43mnum_saved_epochs\u001b[49m\u001b[43m \u001b[49m\u001b[38;5;241;43m=\u001b[39;49m\u001b[43m \u001b[49m\u001b[38;5;241;43m0\u001b[39;49m\u001b[43m)\u001b[49m\n",
      "Cell \u001b[0;32mIn[15], line 24\u001b[0m, in \u001b[0;36mtrain\u001b[0;34m(model, dataset, batch_size, date_trainloader, date_testloader, criterion, optimizer, epochs, first_time, num_saved_epochs)\u001b[0m\n\u001b[1;32m     21\u001b[0m date_next_day \u001b[38;5;241m=\u001b[39m datetime(\u001b[38;5;28mint\u001b[39m(date_next_day[\u001b[38;5;241m2\u001b[39m]), \u001b[38;5;28mint\u001b[39m(date_next_day[\u001b[38;5;241m1\u001b[39m]), \u001b[38;5;28mint\u001b[39m(date_next_day[\u001b[38;5;241m0\u001b[39m])) \u001b[38;5;241m+\u001b[39m timedelta(days\u001b[38;5;241m=\u001b[39m\u001b[38;5;241m1\u001b[39m)\n\u001b[1;32m     22\u001b[0m date_next_day \u001b[38;5;241m=\u001b[39m date_next_day\u001b[38;5;241m.\u001b[39mstrftime(\u001b[38;5;124m\"\u001b[39m\u001b[38;5;132;01m%d\u001b[39;00m\u001b[38;5;124m_\u001b[39m\u001b[38;5;124m%\u001b[39m\u001b[38;5;124mm_\u001b[39m\u001b[38;5;124m%\u001b[39m\u001b[38;5;124mY\u001b[39m\u001b[38;5;124m\"\u001b[39m)\n\u001b[0;32m---> 24\u001b[0m \u001b[38;5;28;01mif\u001b[39;00m \u001b[43mdate_next_day\u001b[49m\u001b[43m \u001b[49m\u001b[38;5;129;43;01mnot\u001b[39;49;00m\u001b[43m \u001b[49m\u001b[38;5;129;43;01min\u001b[39;49;00m\u001b[43m \u001b[49m\u001b[43mdataset\u001b[49m:\n\u001b[1;32m     25\u001b[0m     \u001b[38;5;28mprint\u001b[39m(\u001b[38;5;124mf\u001b[39m\u001b[38;5;124m\"\u001b[39m\u001b[38;5;124mDate \u001b[39m\u001b[38;5;132;01m{\u001b[39;00mdate_next_day\u001b[38;5;132;01m}\u001b[39;00m\u001b[38;5;124m not found in dataset\u001b[39m\u001b[38;5;124m\"\u001b[39m)\n\u001b[1;32m     26\u001b[0m     \u001b[38;5;28;01mcontinue\u001b[39;00m\n",
      "Cell \u001b[0;32mIn[10], line 17\u001b[0m, in \u001b[0;36mWeatherDataset.__getitem__\u001b[0;34m(self, date)\u001b[0m\n\u001b[1;32m     15\u001b[0m \u001b[38;5;28;01mdef\u001b[39;00m \u001b[38;5;21m__getitem__\u001b[39m(\u001b[38;5;28mself\u001b[39m, date):\n\u001b[1;32m     16\u001b[0m     \u001b[38;5;66;03m#get day month year from date in format dd-mm-yyyy\u001b[39;00m\n\u001b[0;32m---> 17\u001b[0m     day, month, year \u001b[38;5;241m=\u001b[39m \u001b[43mdate\u001b[49m\u001b[38;5;241;43m.\u001b[39;49m\u001b[43msplit\u001b[49m(\u001b[38;5;124m'\u001b[39m\u001b[38;5;124m_\u001b[39m\u001b[38;5;124m'\u001b[39m)\n\u001b[1;32m     18\u001b[0m     \u001b[38;5;66;03m#get from weather data the row with the same date\u001b[39;00m\n\u001b[1;32m     19\u001b[0m     weather_data \u001b[38;5;241m=\u001b[39m \u001b[38;5;28mself\u001b[39m\u001b[38;5;241m.\u001b[39mweather_data[(\u001b[38;5;28mself\u001b[39m\u001b[38;5;241m.\u001b[39mweather_data[\u001b[38;5;124m'\u001b[39m\u001b[38;5;124mgiorno\u001b[39m\u001b[38;5;124m'\u001b[39m] \u001b[38;5;241m==\u001b[39m \u001b[38;5;28mint\u001b[39m(day)) \u001b[38;5;241m&\u001b[39m (\u001b[38;5;28mself\u001b[39m\u001b[38;5;241m.\u001b[39mweather_data[\u001b[38;5;124m'\u001b[39m\u001b[38;5;124mmese\u001b[39m\u001b[38;5;124m'\u001b[39m] \u001b[38;5;241m==\u001b[39m \u001b[38;5;28mint\u001b[39m(month)) \u001b[38;5;241m&\u001b[39m (\u001b[38;5;28mself\u001b[39m\u001b[38;5;241m.\u001b[39mweather_data[\u001b[38;5;124m'\u001b[39m\u001b[38;5;124manno\u001b[39m\u001b[38;5;124m'\u001b[39m] \u001b[38;5;241m==\u001b[39m \u001b[38;5;28mint\u001b[39m(year))]\n",
      "\u001b[0;31mAttributeError\u001b[0m: 'int' object has no attribute 'split'"
     ]
    }
   ],
   "source": [
    "train_losses, test_losses = train(model, dataset, batch_size, date_trainloader, date_testloader, criterion, optimizer, epochs = 50, first_time = True, num_saved_epochs = 0)"
   ]
  },
  {
   "cell_type": "code",
   "execution_count": null,
   "metadata": {},
   "outputs": [],
   "source": [
    "epochs = [epoch for epoch in range(50)]\n",
    "plt.plot(epochs, train_losses, label = 'Training Loss')\n",
    "plt.plot(epochs, test_losses, label = 'Validation Loss')\n",
    "plt.xlabel('Epochs')\n",
    "plt.ylabel('Loss')\n",
    "plt.legend()\n",
    "plt.show()"
   ]
  },
  {
   "cell_type": "code",
   "execution_count": null,
   "metadata": {},
   "outputs": [],
   "source": [
    "def predict(model, date):\n",
    "    device = torch.device('cuda') if torch.cuda.is_available() else torch.device('cpu')\n",
    "\n",
    "    inputs = dataset[date]\n",
    "    inputs = [inputs[0].float().unsqueeze(0).to(device), inputs[1].float().unsqueeze(0).to(device)]\n",
    "\n",
    "    outputs = model(inputs)    \n",
    "    \n",
    "    return outputs"
   ]
  },
  {
   "cell_type": "code",
   "execution_count": null,
   "metadata": {},
   "outputs": [],
   "source": [
    "#print(predict(model, '05_06_2023'))\n",
    "#print(dataset['05_06_2023'][1][3])"
   ]
  },
  {
   "cell_type": "code",
   "execution_count": null,
   "metadata": {},
   "outputs": [],
   "source": [
    "for date in date_testset:\n",
    "    predicted_rain = predict(model, date)\n",
    "    #non normalized results\n",
    "    predicted_rain = predicted_rain \n",
    "    print(f\"Predicted rain normalized for {date} is {predicted_rain}\")\n",
    "    #while real rain is\n",
    "    print(f\"Real rain normalized  for {date} is {dataset[date][1][3]}\")   \n"
   ]
  }
 ],
 "metadata": {
  "kernelspec": {
   "display_name": "Python 3 (ipykernel)",
   "language": "python",
   "name": "python3"
  },
  "language_info": {
   "codemirror_mode": {
    "name": "ipython",
    "version": 3
   },
   "file_extension": ".py",
   "mimetype": "text/x-python",
   "name": "python",
   "nbconvert_exporter": "python",
   "pygments_lexer": "ipython3",
   "version": "3.9.18"
  }
 },
 "nbformat": 4,
 "nbformat_minor": 4
}
