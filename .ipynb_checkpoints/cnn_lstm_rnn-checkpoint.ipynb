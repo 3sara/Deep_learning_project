{
 "cells": [
  {
   "cell_type": "code",
   "execution_count": 1,
   "metadata": {},
   "outputs": [],
   "source": [
    "!module load cuda"
   ]
  },
  {
   "cell_type": "code",
   "execution_count": 2,
   "metadata": {},
   "outputs": [],
   "source": [
    "import torch\n",
    "from torch.utils.data import Dataset, DataLoader\n",
    "from torchvision.io import read_image\n",
    "import torchvision.transforms as T\n",
    "\n",
    "import torch.nn as nn\n",
    "import torch.nn.functional as F\n",
    "\n",
    "from sklearn.metrics import r2_score\n",
    "import matplotlib.pyplot as plt\n",
    "import numpy as np\n",
    "import pandas as pd\n",
    "import os\n",
    "\n",
    "from jupyterplot import ProgressPlot\n",
    "from tqdm import tqdm, trange\n",
    "\n",
    "from datetime import datetime, timedelta"
   ]
  },
  {
   "cell_type": "code",
   "execution_count": 3,
   "metadata": {
    "id": "aa9ssRQXOF9F"
   },
   "outputs": [],
   "source": [
    "class WeatherDataset(Dataset):\n",
    "    def __init__(self, weather_data = 'data/big_arpafvg.csv', img_dir = 'data/cut_images'):\n",
    "        initial_data=pd.read_csv(weather_data)\n",
    "        initial_data = initial_data.drop(columns=['Temp. min gradi C','Temp. med gradi C','Temp. max gradi C','Vento med km/h','Dir. V. max gradi N'])\n",
    "        #normalize the data\n",
    "        for col in initial_data.columns:\n",
    "            if col != 'giorno' and col != 'mese' and col != 'anno':\n",
    "                initial_data[col] = (initial_data[col] - initial_data[col].mean()) / initial_data[col].std()\n",
    "        self.weather_data = initial_data\n",
    "        self.img_dir = img_dir\n",
    "        self.seq_length = 7\n",
    "        self.target_column_index = 3\n",
    "        self.date_generated = []\n",
    "\n",
    "    def __getitem__(self, date):\n",
    "        #get day month year from date in format dd-mm-yyyy\n",
    "        day, month, year = date.split('_')\n",
    "        #get from weather data the row with the same date\n",
    "        weather_data = self.weather_data[(self.weather_data['giorno'] == int(day)) & (self.weather_data['mese'] == int(month)) & (self.weather_data['anno'] == int(year))]\n",
    "        weather_data = torch.tensor(weather_data.values[0])\n",
    "\n",
    "        image = os.path.join(self.img_dir, str(date) + '.jpg')  \n",
    "        image = read_image(image)   \n",
    "        return [image, weather_data]\n",
    "    \n",
    "    def __len__(self):\n",
    "        return len(self.weather_data)\n",
    "\n",
    "    def date_generation(self, start_date, end_date):\n",
    "        start_date = datetime.strptime(start_date, \"%d_%m_%Y\")\n",
    "        end_date = datetime.strptime(end_date, \"%d_%m_%Y\")\n",
    "        date_generated = [start_date + timedelta(days=x) for x in range(0, (end_date-start_date).days)]\n",
    "        #transform the list of datetime objects in a list of strings in format dd-mm-yyyy\n",
    "        date_generated = [date.strftime(\"%d_%m_%Y\") for date in date_generated]\n",
    "        self.date_generated=date_generated\n",
    "        return date_generated\n",
    "    \n",
    "    def create_sequence(self, date, len_seq):\n",
    "        batch_xs =[]\n",
    "        batch_imgs = []\n",
    "        batch_ys = []\n",
    "        for elem in date:\n",
    "            ys = []\n",
    "            end_of_week = elem.split('_')\n",
    "            end_of_week = datetime(int(end_of_week[2]), int(end_of_week[1]), int(end_of_week[0])) + timedelta(days = len_seq)\n",
    "            end_of_week = end_of_week.strftime(\"%d_%m_%Y\")\n",
    "            imgs, xs =[], []\n",
    "            week=self.date_generation(elem,end_of_week)\n",
    "            for day in week:\n",
    "                a , b = self.__getitem__(day)\n",
    "                imgs.append(a)\n",
    "                xs.append(b)\n",
    "\n",
    "\n",
    "            next = end_of_week.split('_')\n",
    "            next = datetime(int(next[2]), int(next[1]), int(next[0])) + timedelta(days = 1)\n",
    "            next = next.strftime(\"%d_%m_%Y\")\n",
    "            ys.append(self.__getitem__(next)[1][self.target_column_index])\n",
    "            imgs = np.array(imgs)\n",
    "            xs = np.array(xs)\n",
    "            ys = np.array(ys)\n",
    "            imgs = torch.from_numpy(imgs).float()\n",
    "            xs = torch.from_numpy(xs).float()\n",
    "            ys = torch.from_numpy(ys).float()\n",
    "            batch_xs.append(xs)\n",
    "            batch_imgs.append(imgs)\n",
    "            batch_ys.append(ys)\n",
    "                    \n",
    "        batch_xs = np.array(batch_xs)\n",
    "        batch_imgs = np.array(batch_imgs)\n",
    "        batch_ys = np.array(batch_ys)\n",
    "        batch_xs = torch.from_numpy(batch_xs).float()\n",
    "        batch_imgs = torch.from_numpy(batch_imgs).float()\n",
    "        batch_ys = torch.from_numpy(batch_ys).float()\n",
    "        return batch_imgs, batch_xs, batch_ys"
   ]
  },
  {
   "cell_type": "code",
   "execution_count": 4,
   "metadata": {
    "id": "ujeYNSStERGn"
   },
   "outputs": [],
   "source": [
    "dataset = WeatherDataset()"
   ]
  },
  {
   "cell_type": "code",
   "execution_count": 5,
   "metadata": {},
   "outputs": [],
   "source": [
    "#generate a list of strings dd-mm-yyyy from 01-06-2023 to 15-6-2024\n",
    "dataset.date_generation(\"01_01_2022\", \"08_06_2024\")\n",
    "date_generated = dataset.date_generated\n"
   ]
  },
  {
   "cell_type": "code",
   "execution_count": 6,
   "metadata": {},
   "outputs": [
    {
     "name": "stdout",
     "output_type": "stream",
     "text": [
      "711\n"
     ]
    }
   ],
   "source": [
    "train_len = int(0.8 * len(dataset.date_generated))\n",
    "test_len = len(dataset.date_generated) - train_len\n",
    "#split the dataset: date_trainset contains the first 80% of the dates, date_testset contains the remaining 20%\n",
    "date_trainset = date_generated[:train_len]\n",
    "date_testset = date_generated[train_len:]\n",
    "print(len(date_trainset))"
   ]
  },
  {
   "cell_type": "code",
   "execution_count": 7,
   "metadata": {},
   "outputs": [],
   "source": [
    "train_loader = torch.utils.data.DataLoader(date_trainset, batch_size = 5, shuffle = True)\n",
    "test_loader = torch.utils.data.DataLoader(date_testset, batch_size = 5, shuffle = True)"
   ]
  },
  {
   "cell_type": "code",
   "execution_count": 8,
   "metadata": {
    "id": "byxTeA5rUiuG"
   },
   "outputs": [],
   "source": [
    "import torch\n",
    "import torch.nn as nn\n",
    "import torch.nn.functional as F\n",
    "\n",
    "class DeepWeather(nn.Module):\n",
    "    def __init__(self):\n",
    "        super(DeepWeather, self).__init__()\n",
    "\n",
    "        self.conv1 = nn.Conv3d(in_channels=7, out_channels=32, kernel_size=(1, 3, 3), stride=1, padding=(0, 1, 1))\n",
    "        self.pool = nn.MaxPool3d(kernel_size=(1, 2, 2), padding=(0, 1, 1))\n",
    "        self.dropout = nn.Dropout(p=0.3)\n",
    "        self.bn1 = nn.BatchNorm3d(32)\n",
    "        self.conv2 = nn.Conv3d(in_channels=32, out_channels=64, kernel_size=(1, 3, 3), stride=1, padding=(0, 1, 1))\n",
    "        self.bn2 = nn.BatchNorm3d(64)\n",
    "        self.conv3 = nn.Conv3d(in_channels=64, out_channels=128, kernel_size=(1, 3, 3), stride=1, padding=(0, 1, 1))\n",
    "        self.bn3 = nn.BatchNorm3d(128)\n",
    "        self.conv4 = nn.Conv3d(in_channels=128, out_channels=256, kernel_size=(1, 3, 3), stride=1, padding=(0, 1, 1))\n",
    "        self.bn4 = nn.BatchNorm3d(256)\n",
    "        self.conv5 = nn.Conv3d(in_channels=256, out_channels=512, kernel_size=(1, 3, 3), stride=1, padding=(0, 1, 1))\n",
    "        self.bn5 = nn.BatchNorm3d(512)\n",
    "        self.conv6 = nn.Conv3d(in_channels=512, out_channels=1024, kernel_size=(1, 3, 3), stride=1, padding=(0, 1, 1))\n",
    "        self.bn6 = nn.BatchNorm3d(1024)\n",
    "\n",
    "        self.lstm = nn.LSTM(input_size=73728, hidden_size=50, num_layers=2, batch_first=True)\n",
    "        self.fc1 = nn.Linear(50, 64)\n",
    "        \n",
    "        self.input_size = 10  \n",
    "        self.hidden_size = 64\n",
    "        self.num_layers = 2\n",
    "        self.output_size = 64\n",
    "        self.rnn2 = nn.RNN(self.input_size, self.hidden_size, self.num_layers, batch_first=True)\n",
    "        self.fc = nn.Linear(64 + 64, 1)  \n",
    "\n",
    "    def forward(self, x1, x2):\n",
    "        \n",
    "        x1 = self.bn1(self.dropout(self.pool(F.leaky_relu(self.conv1(x1)))))\n",
    "        x1 = self.bn2(self.dropout(self.pool(F.leaky_relu(self.conv2(x1)))))\n",
    "        x1 = self.bn3(self.dropout(self.pool(F.leaky_relu(self.conv3(x1)))))\n",
    "        x1 = self.bn4(self.dropout(self.pool(F.leaky_relu(self.conv4(x1)))))\n",
    "        x1 = self.bn5(self.dropout(self.pool(F.leaky_relu(self.conv5(x1)))))\n",
    "        x1 = self.bn6(self.dropout(self.pool(F.leaky_relu(self.conv6(x1)))))\n",
    "\n",
    "        x1 = x1.transpose(1, 2) \n",
    "        x1 = torch.flatten(x1, start_dim=2)\n",
    "        \n",
    "        x1, (hn, cn) = self.lstm(x1)\n",
    "        x1 = self.fc1(x1[:, -1, :])  # Prendi solo l'ultimo output della LSTM\n",
    "\n",
    "        h0 = torch.zeros(self.num_layers, x2.size(0), self.hidden_size).to(x2.device)\n",
    "        out, _ = self.rnn2(x2, h0)\n",
    "        \n",
    "        out = torch.cat((out[:, -1, :], x1), dim=1)  # Concatenazione corretta\n",
    "        out = self.fc(out)\n",
    "\n",
    "        return out"
   ]
  },
  {
   "cell_type": "code",
   "execution_count": 9,
   "metadata": {
    "id": "pXkUaJmmefOg"
   },
   "outputs": [],
   "source": [
    "def train(model, dataset, train_loader, test_loader, criterion, optimizer, epochs = 50, first_time = True, num_saved_epochs = 0):\n",
    "    device = torch.device('cuda') if torch.cuda.is_available() else torch.device('cpu')\n",
    "    model = model.to(device)    \n",
    "    \n",
    "    train_loss_epochs = []\n",
    "    test_loss_epochs = []\n",
    "    bar = trange(epochs, desc=f\"Epoch ?/?, Train Loss: ?, Test Loss: ?\")\n",
    "    for epoch in bar:\n",
    "        model.train()\n",
    "        train_losses = []\n",
    "            \n",
    "        for date in train_loader:\n",
    "            imgs, xs, ys = dataset.create_sequence(date, 7)\n",
    "            imgs = imgs.to(device)\n",
    "            xs = xs.to(device)\n",
    "            ys = ys.to(device)\n",
    "\n",
    "            optimizer.zero_grad()\n",
    "            outputs = model(imgs, xs)\n",
    "            loss = criterion(outputs, ys)\n",
    "            loss.backward()\n",
    "            optimizer.step()\n",
    "            train_losses.append(loss.item())\n",
    "            \n",
    "        train_loss_epochs.append(np.mean(train_losses))\n",
    "        model.eval()\n",
    "        test_losses = []\n",
    "        for date in test_loader:\n",
    "            \n",
    "            imgs, xs, ys = dataset.create_sequence(date, 7)\n",
    "            imgs = imgs.to(device)\n",
    "            xs = xs.to(device)\n",
    "            ys = ys.to(device)\n",
    "            outputs = model(imgs, xs)\n",
    "            loss = criterion(outputs.squeeze(), ys)\n",
    "            test_losses.append(loss.item())\n",
    "                \n",
    "        test_loss_epochs.append(np.mean(test_losses))\n",
    "        bar.set_description(f\"Epoch {epoch + 1}/{epochs}, Train Loss: {np.mean(train_losses)}, Test Loss: {np.mean(test_losses)}\")\n",
    "        #if first_time:\n",
    "            #torch.save(model.state_dict(), f\"deepweather_epoch{num_saved_epochs + epoch + 1}.pth\")\n",
    "\n",
    "    return train_loss_epochs, test_loss_epochs"
   ]
  },
  {
   "cell_type": "code",
   "execution_count": 10,
   "metadata": {
    "id": "AKV2X85RFp7S"
   },
   "outputs": [],
   "source": [
    "model = DeepWeather()\n",
    "criterion = torch.nn.MSELoss()\n",
    "optimizer = torch.optim.Adam(model.parameters(), lr = 10e-6, weight_decay=1e-5)\n"
   ]
  },
  {
   "cell_type": "code",
   "execution_count": null,
   "metadata": {
    "id": "RwAo5dpaH9lH",
    "outputId": "046fb4bb-e399-46ee-d141-df943fcd47ff"
   },
   "outputs": [
    {
     "name": "stderr",
     "output_type": "stream",
     "text": [
      "Epoch ?/?, Train Loss: ?, Test Loss: ?:   0%|                                                    | 0/50 [00:00<?, ?it/s]/orfeo/cephfs/home/dssc/scarpene/jupyter/lib64/python3.9/site-packages/torch/nn/modules/conv.py:605: UserWarning: Attempt to open cnn_infer failed: handle=0 error: libcudnn_cnn_infer.so.8: cannot open shared object file: No such file or directory (Triggered internally at ../aten/src/ATen/native/cudnn/Conv_v8.cpp:81.)\n",
      "  return F.conv3d(\n",
      "/orfeo/cephfs/home/dssc/scarpene/jupyter/lib64/python3.9/site-packages/torch/nn/modules/loss.py:535: UserWarning: Using a target size (torch.Size([5, 1])) that is different to the input size (torch.Size([5])). This will likely lead to incorrect results due to broadcasting. Please ensure they have the same size.\n",
      "  return F.mse_loss(input, target, reduction=self.reduction)\n",
      "/orfeo/cephfs/home/dssc/scarpene/jupyter/lib64/python3.9/site-packages/torch/nn/modules/loss.py:535: UserWarning: Using a target size (torch.Size([3, 1])) that is different to the input size (torch.Size([3])). This will likely lead to incorrect results due to broadcasting. Please ensure they have the same size.\n",
      "  return F.mse_loss(input, target, reduction=self.reduction)\n",
      "Epoch 19/50, Train Loss: 0.9099212640544752, Test Loss: 1.3142166121138468:  38%|██▋    | 19/50 [18:49<30:37, 59.28s/it]"
     ]
    }
   ],
   "source": [
    "train_losses, val_losses = train(model, dataset, train_loader, test_loader, criterion, optimizer, epochs = 50, first_time = True, num_saved_epochs = 0)"
   ]
  },
  {
   "cell_type": "code",
   "execution_count": null,
   "metadata": {},
   "outputs": [],
   "source": [
    "torch.save(model.state_dict(), \"models/model_cnn_lstm_rnn.tensor\")"
   ]
  },
  {
   "cell_type": "code",
   "execution_count": null,
   "metadata": {},
   "outputs": [],
   "source": [
    "epochs = [epoch for epoch in range(50)]\n",
    "plt.plot(epochs, train_losses, label = 'Training Loss')\n",
    "plt.plot(epochs, val_losses, label = 'Validation Loss')\n",
    "plt.xlabel('Epochs')\n",
    "plt.ylabel('Loss')\n",
    "plt.legend()\n",
    "plt.show()"
   ]
  },
  {
   "cell_type": "code",
   "execution_count": null,
   "metadata": {},
   "outputs": [],
   "source": [
    "prediction_dataset = WeatherDataset()\n",
    "prediction_dataset.date_generation('01_01_2024','08_06_2024')\n",
    "week=prediction_dataset.date_generated\n",
    "pred_loader=torch.utils.data.DataLoader(week, batch_size = 1, shuffle = True)"
   ]
  },
  {
   "cell_type": "code",
   "execution_count": null,
   "metadata": {},
   "outputs": [],
   "source": [
    "def predict(model, pred_loader, dataset):\n",
    "    predictions=[]\n",
    "    predicted_days=[]\n",
    "    real_rains=[]\n",
    "    device = torch.device('cuda') if torch.cuda.is_available() else torch.device('cpu')\n",
    "    model=model.to(device)\n",
    "    for date in pred_loader:  \n",
    "            imgs, xs, ys = dataset.create_sequence(date, 7)\n",
    "            imgs = imgs.to(device)\n",
    "            xs = xs.to(device)\n",
    "            ys = ys.to(device)\n",
    "            output = model(imgs, xs)\n",
    "            output=output.cpu()\n",
    "            predictions.append(output.detach().numpy())\n",
    "            predicted_day = date[0].split('_')\n",
    "            predicted_day = datetime(int(predicted_day[2]), int(predicted_day[1]), int(predicted_day[0])) + timedelta(days = 8)\n",
    "            predicted_day = predicted_day.strftime(\"%d_%m_%Y\")\n",
    "            predicted_days.append(predicted_day)\n",
    "            real_rain = dataset[predicted_day][1][3]\n",
    "            real_rains.append(real_rain)\n",
    "            \n",
    "    return predicted_days, predictions, real_rains"
   ]
  },
  {
   "cell_type": "code",
   "execution_count": null,
   "metadata": {},
   "outputs": [],
   "source": [
    "predicted_days, predictions, real_rain= predict(model, pred_loader, prediction_dataset)"
   ]
  },
  {
   "cell_type": "code",
   "execution_count": null,
   "metadata": {},
   "outputs": [],
   "source": [
    "plt.plot( predicted_days, np.array(predictions).squeeze(), label = 'predictions')\n",
    "plt.plot( predicted_days, real_rain, label = 'Real rain')\n",
    "plt.legend()"
   ]
  }
 ],
 "metadata": {
  "kernelspec": {
   "display_name": "Python 3 (ipykernel)",
   "language": "python",
   "name": "python3"
  },
  "language_info": {
   "codemirror_mode": {
    "name": "ipython",
    "version": 3
   },
   "file_extension": ".py",
   "mimetype": "text/x-python",
   "name": "python",
   "nbconvert_exporter": "python",
   "pygments_lexer": "ipython3",
   "version": "3.9.18"
  }
 },
 "nbformat": 4,
 "nbformat_minor": 4
}
