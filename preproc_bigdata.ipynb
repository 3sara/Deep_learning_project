{
 "cells": [
  {
   "cell_type": "markdown",
   "metadata": {},
   "source": [
    "# Preprocessing ARPAFVG data"
   ]
  },
  {
   "cell_type": "code",
   "execution_count": 1,
   "metadata": {},
   "outputs": [],
   "source": [
    "#Usefull imports\n",
    "import numpy as np\n",
    "import pandas as pd"
   ]
  },
  {
   "cell_type": "code",
   "execution_count": 10,
   "metadata": {},
   "outputs": [],
   "source": [
    "#Importing the dataset\n",
    "data2022 = pd.read_csv('data/arpafvg_fllbandiera_2022.csv',sep=\";\",header=0)\n",
    "data2023 = pd.read_csv('data/arpafvg_fllbandiera_2023.csv',sep=\";\",header=0)\n",
    "data2024 = pd.read_csv('data/arpafvg_fllbandiera_2024.csv',sep=\";\",header=0)\n"
   ]
  },
  {
   "cell_type": "code",
   "execution_count": 11,
   "metadata": {},
   "outputs": [],
   "source": [
    "data2022.insert(0, 'anno', 2022)\n",
    "data2023.insert(0, 'anno', 2023)\n",
    "data2024.insert(0, 'anno', 2024)"
   ]
  },
  {
   "cell_type": "code",
   "execution_count": 12,
   "metadata": {},
   "outputs": [],
   "source": [
    "data2022 = data2022.replace('-', np.nan)\n",
    "data2023 = data2023.replace('-', np.nan)\n",
    "data2024 = data2024.replace('-', np.nan)"
   ]
  },
  {
   "cell_type": "code",
   "execution_count": 13,
   "metadata": {},
   "outputs": [
    {
     "name": "stderr",
     "output_type": "stream",
     "text": [
      "/tmp/ipykernel_83650/3944945311.py:1: FutureWarning: DataFrame.fillna with 'method' is deprecated and will raise in a future version. Use obj.ffill() or obj.bfill() instead.\n",
      "  data2022 = data2022.fillna(method='ffill')\n",
      "/tmp/ipykernel_83650/3944945311.py:2: FutureWarning: DataFrame.fillna with 'method' is deprecated and will raise in a future version. Use obj.ffill() or obj.bfill() instead.\n",
      "  data2023 = data2023.fillna(method='ffill')\n",
      "/tmp/ipykernel_83650/3944945311.py:3: FutureWarning: DataFrame.fillna with 'method' is deprecated and will raise in a future version. Use obj.ffill() or obj.bfill() instead.\n",
      "  data2024 = data2024.fillna(method='ffill')\n"
     ]
    }
   ],
   "source": [
    "data2022 = data2022.fillna(method='ffill')\n",
    "data2023 = data2023.fillna(method='ffill')\n",
    "data2024 = data2024.fillna(method='ffill')"
   ]
  },
  {
   "cell_type": "code",
   "execution_count": 14,
   "metadata": {},
   "outputs": [],
   "source": [
    "data2022[\"Temp. min gradi C\"] = data2022[\"Temp. min gradi C\"].astype(float)\n",
    "data2022[\"Temp. med gradi C\"] = data2022[\"Temp. med gradi C\"].astype(float)\n",
    "data2022[\"Temp. max gradi C\"] = data2022[\"Temp. max gradi C\"].astype(float)\n",
    "data2022[\"Umidita' min %\"] = data2022[\"Umidita' min %\"].astype(float)\n",
    "data2022[\"Umidita' med %\"] = data2022[\"Umidita' med %\"].astype(float)\n",
    "data2022[\"Umidita' max %\"] = data2022[\"Umidita' max %\"].astype(float)\n",
    "data2022[\"Vento med km/h\"] = data2022[\"Vento med km/h\"].astype(float)\n",
    "data2022[\"Vento max km/h\"] = data2022[\"Vento max km/h\"].astype(float)   \n",
    "data2022[\"Dir. V. max gradi N\"] = data2022[\"Dir. V. max gradi N\"].astype(float)\n",
    "data2022[\"Radiaz. KJ/m2\"] = data2022[\"Radiaz. KJ/m2\"].astype(float)\n",
    "data2022[\"Press. med hPa\"] = data2022[\"Press. med hPa\"].astype(float)"
   ]
  },
  {
   "cell_type": "code",
   "execution_count": 15,
   "metadata": {},
   "outputs": [],
   "source": [
    "data2023[\"Temp. min gradi C\"] = data2023[\"Temp. min gradi C\"].astype(float)\n",
    "data2023[\"Temp. med gradi C\"] = data2023[\"Temp. med gradi C\"].astype(float)\n",
    "data2023[\"Temp. max gradi C\"] = data2023[\"Temp. max gradi C\"].astype(float)\n",
    "data2023[\"Umidita' min %\"] = data2023[\"Umidita' min %\"].astype(float)\n",
    "data2023[\"Umidita' med %\"] = data2023[\"Umidita' med %\"].astype(float)\n",
    "data2023[\"Umidita' max %\"] = data2023[\"Umidita' max %\"].astype(float)\n",
    "data2023[\"Vento med km/h\"] = data2023[\"Vento med km/h\"].astype(float)\n",
    "data2023[\"Vento max km/h\"] = data2023[\"Vento max km/h\"].astype(float)   \n",
    "data2023[\"Dir. V. max gradi N\"] = data2023[\"Dir. V. max gradi N\"].astype(float)\n",
    "data2023[\"Radiaz. KJ/m2\"] = data2023[\"Radiaz. KJ/m2\"].astype(float)\n",
    "data2023[\"Press. med hPa\"] = data2023[\"Press. med hPa\"].astype(float)\n"
   ]
  },
  {
   "cell_type": "code",
   "execution_count": 16,
   "metadata": {},
   "outputs": [],
   "source": [
    "data2024[\"Temp. min gradi C\"] = data2024[\"Temp. min gradi C\"].astype(float)\n",
    "data2024[\"Temp. med gradi C\"] = data2024[\"Temp. med gradi C\"].astype(float)\n",
    "data2024[\"Temp. max gradi C\"] = data2024[\"Temp. max gradi C\"].astype(float)\n",
    "data2024[\"Umidita' min %\"] = data2024[\"Umidita' min %\"].astype(float)\n",
    "data2024[\"Umidita' med %\"] = data2024[\"Umidita' med %\"].astype(float)\n",
    "data2024[\"Umidita' max %\"] = data2024[\"Umidita' max %\"].astype(float)\n",
    "data2024[\"Vento med km/h\"] = data2024[\"Vento med km/h\"].astype(float)\n",
    "data2024[\"Vento max km/h\"] = data2024[\"Vento max km/h\"].astype(float)   \n",
    "data2024[\"Dir. V. max gradi N\"] = data2024[\"Dir. V. max gradi N\"].astype(float)\n",
    "data2024[\"Radiaz. KJ/m2\"] = data2024[\"Radiaz. KJ/m2\"].astype(float)\n",
    "data2024[\"Press. med hPa\"] = data2024[\"Press. med hPa\"].astype(float)\n"
   ]
  },
  {
   "cell_type": "code",
   "execution_count": 17,
   "metadata": {},
   "outputs": [],
   "source": [
    "data = pd.concat([data2022, data2023 , data2024])\n",
    "\n",
    "data.to_csv('data/big_arpafvg.csv', index=False)"
   ]
  }
 ],
 "metadata": {
  "kernelspec": {
   "display_name": "Python 3",
   "language": "python",
   "name": "python3"
  },
  "language_info": {
   "codemirror_mode": {
    "name": "ipython",
    "version": 3
   },
   "file_extension": ".py",
   "mimetype": "text/x-python",
   "name": "python",
   "nbconvert_exporter": "python",
   "pygments_lexer": "ipython3",
   "version": "3.10.12"
  }
 },
 "nbformat": 4,
 "nbformat_minor": 2
}
